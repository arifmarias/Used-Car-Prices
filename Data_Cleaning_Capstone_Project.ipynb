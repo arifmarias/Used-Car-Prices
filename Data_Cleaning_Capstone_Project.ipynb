{
  "nbformat": 4,
  "nbformat_minor": 0,
  "metadata": {
    "colab": {
      "name": "Data Cleaning_Capstone Project.ipynb",
      "provenance": [],
      "collapsed_sections": [],
      "include_colab_link": true
    },
    "kernelspec": {
      "name": "python3",
      "display_name": "Python 3"
    }
  },
  "cells": [
    {
      "cell_type": "markdown",
      "metadata": {
        "id": "view-in-github",
        "colab_type": "text"
      },
      "source": [
        "<a href=\"https://colab.research.google.com/github/Raizel820/Raizel820-Capstone_Project_Machine_Learning/blob/master/Data_Cleaning_Capstone_Project.ipynb\" target=\"_parent\"><img src=\"https://colab.research.google.com/assets/colab-badge.svg\" alt=\"Open In Colab\"/></a>"
      ]
    },
    {
      "cell_type": "code",
      "metadata": {
        "id": "Q9BOktGg7ghg",
        "colab_type": "code",
        "outputId": "8a3b12a3-5b78-4004-c253-2c29d3b998cd",
        "colab": {
          "base_uri": "https://localhost:8080/",
          "height": 144
        }
      },
      "source": [
        "%matplotlib inline\n",
        "import pandas as pd\n",
        "import numpy as np\n",
        "import seaborn as sns\n",
        "import matplotlib.pyplot as plt\n",
        "\n",
        "import subprocess as sp\n",
        "import sys,os,shutil,pickle,time\n",
        "from os.path import join\n",
        "plt.style.use('default')\n",
        "# mount Google Drive\n",
        "from os.path import expanduser\n",
        "gd_path=join(expanduser(\"~\"),'gd')\n",
        "if not os.path.isdir(gd_path):\n",
        "    try:\n",
        "        # load Google Drive\n",
        "        from google.colab import drive,files\n",
        "        drive.mount('/drive')\n",
        "        sp.call('ln -s /drive/My\\ Drive '+gd_path, shell=True)\n",
        "    except:\n",
        "        print('unable to find Google Drive Folder')\n",
        "os.chdir(gd_path+'/MachineLearning/car_data')\n",
        "os.listdir('.')"
      ],
      "execution_count": 1,
      "outputs": [
        {
          "output_type": "stream",
          "text": [
            "Go to this URL in a browser: https://accounts.google.com/o/oauth2/auth?client_id=947318989803-6bn6qk8qdgf4n4g3pfee6491hc0brc4i.apps.googleusercontent.com&redirect_uri=urn%3aietf%3awg%3aoauth%3a2.0%3aoob&response_type=code&scope=email%20https%3a%2f%2fwww.googleapis.com%2fauth%2fdocs.test%20https%3a%2f%2fwww.googleapis.com%2fauth%2fdrive%20https%3a%2f%2fwww.googleapis.com%2fauth%2fdrive.photos.readonly%20https%3a%2f%2fwww.googleapis.com%2fauth%2fpeopleapi.readonly\n",
            "\n",
            "Enter your authorization code:\n",
            "··········\n",
            "Mounted at /drive\n"
          ],
          "name": "stdout"
        },
        {
          "output_type": "execute_result",
          "data": {
            "text/plain": [
              "['craigslistVehicles_full.csv', 'cars_cleaned.csv']"
            ]
          },
          "metadata": {
            "tags": []
          },
          "execution_count": 1
        }
      ]
    },
    {
      "cell_type": "markdown",
      "metadata": {
        "id": "UkeaKWIE06i6",
        "colab_type": "text"
      },
      "source": [
        "The dataset is taken from https://www.kaggle.com/austinreese/craigslist-carstrucks-data#craigslistVehicles.csv"
      ]
    },
    {
      "cell_type": "code",
      "metadata": {
        "id": "YjNZDhyK8DYW",
        "colab_type": "code",
        "outputId": "be48d64f-0b7d-4cd6-8f91-b94382f76f61",
        "colab": {
          "base_uri": "https://localhost:8080/",
          "height": 313
        }
      },
      "source": [
        "df= pd.read_csv('craigslistVehicles_full.csv')\n",
        "df.head()"
      ],
      "execution_count": 2,
      "outputs": [
        {
          "output_type": "execute_result",
          "data": {
            "text/html": [
              "<div>\n",
              "<style scoped>\n",
              "    .dataframe tbody tr th:only-of-type {\n",
              "        vertical-align: middle;\n",
              "    }\n",
              "\n",
              "    .dataframe tbody tr th {\n",
              "        vertical-align: top;\n",
              "    }\n",
              "\n",
              "    .dataframe thead th {\n",
              "        text-align: right;\n",
              "    }\n",
              "</style>\n",
              "<table border=\"1\" class=\"dataframe\">\n",
              "  <thead>\n",
              "    <tr style=\"text-align: right;\">\n",
              "      <th></th>\n",
              "      <th>url</th>\n",
              "      <th>city</th>\n",
              "      <th>city_url</th>\n",
              "      <th>price</th>\n",
              "      <th>year</th>\n",
              "      <th>manufacturer</th>\n",
              "      <th>make</th>\n",
              "      <th>condition</th>\n",
              "      <th>cylinders</th>\n",
              "      <th>fuel</th>\n",
              "      <th>odometer</th>\n",
              "      <th>title_status</th>\n",
              "      <th>transmission</th>\n",
              "      <th>VIN</th>\n",
              "      <th>drive</th>\n",
              "      <th>size</th>\n",
              "      <th>type</th>\n",
              "      <th>paint_color</th>\n",
              "      <th>image_url</th>\n",
              "      <th>desc</th>\n",
              "      <th>lat</th>\n",
              "      <th>long</th>\n",
              "    </tr>\n",
              "  </thead>\n",
              "  <tbody>\n",
              "    <tr>\n",
              "      <th>0</th>\n",
              "      <td>https://abilene.craigslist.org/cto/d/aspermont...</td>\n",
              "      <td>abilene, TX</td>\n",
              "      <td>https://abilene.craigslist.org</td>\n",
              "      <td>9000</td>\n",
              "      <td>2009.0</td>\n",
              "      <td>chevrolet</td>\n",
              "      <td>suburban lt2</td>\n",
              "      <td>good</td>\n",
              "      <td>8 cylinders</td>\n",
              "      <td>gas</td>\n",
              "      <td>217743.0</td>\n",
              "      <td>clean</td>\n",
              "      <td>automatic</td>\n",
              "      <td>1GFNC26099R211276</td>\n",
              "      <td>rwd</td>\n",
              "      <td>full-size</td>\n",
              "      <td>SUV</td>\n",
              "      <td>white</td>\n",
              "      <td>https://images.craigslist.org/00909_5P6f1E6zHl...</td>\n",
              "      <td>2WD 1/2 ton\\nLeather Captains Chairs\\nIn good ...</td>\n",
              "      <td>33.130100</td>\n",
              "      <td>-100.234400</td>\n",
              "    </tr>\n",
              "    <tr>\n",
              "      <th>1</th>\n",
              "      <td>https://abilene.craigslist.org/ctd/d/liberty-h...</td>\n",
              "      <td>abilene, TX</td>\n",
              "      <td>https://abilene.craigslist.org</td>\n",
              "      <td>31999</td>\n",
              "      <td>2012.0</td>\n",
              "      <td>ram</td>\n",
              "      <td>2500</td>\n",
              "      <td>NaN</td>\n",
              "      <td>NaN</td>\n",
              "      <td>diesel</td>\n",
              "      <td>NaN</td>\n",
              "      <td>clean</td>\n",
              "      <td>automatic</td>\n",
              "      <td>NaN</td>\n",
              "      <td>NaN</td>\n",
              "      <td>NaN</td>\n",
              "      <td>NaN</td>\n",
              "      <td>NaN</td>\n",
              "      <td>https://images.craigslist.org/00u0u_24XW8uhLYP...</td>\n",
              "      <td>www.GETADIESEL.com\\n2012 RAM 2500 SLT 4X4 MEGA...</td>\n",
              "      <td>30.648368</td>\n",
              "      <td>-97.862949</td>\n",
              "    </tr>\n",
              "    <tr>\n",
              "      <th>2</th>\n",
              "      <td>https://abilene.craigslist.org/ctd/d/liberty-h...</td>\n",
              "      <td>abilene, TX</td>\n",
              "      <td>https://abilene.craigslist.org</td>\n",
              "      <td>16990</td>\n",
              "      <td>2003.0</td>\n",
              "      <td>ram</td>\n",
              "      <td>3500</td>\n",
              "      <td>NaN</td>\n",
              "      <td>NaN</td>\n",
              "      <td>diesel</td>\n",
              "      <td>NaN</td>\n",
              "      <td>clean</td>\n",
              "      <td>manual</td>\n",
              "      <td>NaN</td>\n",
              "      <td>NaN</td>\n",
              "      <td>NaN</td>\n",
              "      <td>NaN</td>\n",
              "      <td>NaN</td>\n",
              "      <td>https://images.craigslist.org/00l0l_H1UKTJ4sTI...</td>\n",
              "      <td>www.GETADIESEL.com\\n2003 DODGE RAM 3500 LARAMI...</td>\n",
              "      <td>30.648516</td>\n",
              "      <td>-97.862434</td>\n",
              "    </tr>\n",
              "    <tr>\n",
              "      <th>3</th>\n",
              "      <td>https://abilene.craigslist.org/cto/d/merkel-20...</td>\n",
              "      <td>abilene, TX</td>\n",
              "      <td>https://abilene.craigslist.org</td>\n",
              "      <td>6000</td>\n",
              "      <td>2002.0</td>\n",
              "      <td>gmc</td>\n",
              "      <td>sierra 1500</td>\n",
              "      <td>good</td>\n",
              "      <td>8 cylinders</td>\n",
              "      <td>gas</td>\n",
              "      <td>195000.0</td>\n",
              "      <td>clean</td>\n",
              "      <td>automatic</td>\n",
              "      <td>NaN</td>\n",
              "      <td>4wd</td>\n",
              "      <td>NaN</td>\n",
              "      <td>pickup</td>\n",
              "      <td>white</td>\n",
              "      <td>https://images.craigslist.org/00M0M_2wKzc7dKLU...</td>\n",
              "      <td>2002 GMC Sierra Extended Cab Truck For Sale! R...</td>\n",
              "      <td>32.444400</td>\n",
              "      <td>-99.992400</td>\n",
              "    </tr>\n",
              "    <tr>\n",
              "      <th>4</th>\n",
              "      <td>https://abilene.craigslist.org/cto/d/breckenri...</td>\n",
              "      <td>abilene, TX</td>\n",
              "      <td>https://abilene.craigslist.org</td>\n",
              "      <td>37000</td>\n",
              "      <td>2012.0</td>\n",
              "      <td>chevrolet</td>\n",
              "      <td>3500</td>\n",
              "      <td>excellent</td>\n",
              "      <td>8 cylinders</td>\n",
              "      <td>diesel</td>\n",
              "      <td>178000.0</td>\n",
              "      <td>clean</td>\n",
              "      <td>automatic</td>\n",
              "      <td>NaN</td>\n",
              "      <td>4wd</td>\n",
              "      <td>full-size</td>\n",
              "      <td>pickup</td>\n",
              "      <td>silver</td>\n",
              "      <td>https://images.craigslist.org/00r0r_eW1YWlKfCG...</td>\n",
              "      <td>2012 Chevrolet 3500 178k miles, runs and drive...</td>\n",
              "      <td>32.781689</td>\n",
              "      <td>-98.942248</td>\n",
              "    </tr>\n",
              "  </tbody>\n",
              "</table>\n",
              "</div>"
            ],
            "text/plain": [
              "                                                 url  ...        long\n",
              "0  https://abilene.craigslist.org/cto/d/aspermont...  ... -100.234400\n",
              "1  https://abilene.craigslist.org/ctd/d/liberty-h...  ...  -97.862949\n",
              "2  https://abilene.craigslist.org/ctd/d/liberty-h...  ...  -97.862434\n",
              "3  https://abilene.craigslist.org/cto/d/merkel-20...  ...  -99.992400\n",
              "4  https://abilene.craigslist.org/cto/d/breckenri...  ...  -98.942248\n",
              "\n",
              "[5 rows x 22 columns]"
            ]
          },
          "metadata": {
            "tags": []
          },
          "execution_count": 2
        }
      ]
    },
    {
      "cell_type": "code",
      "metadata": {
        "id": "TFfkveoiFzT1",
        "colab_type": "code",
        "outputId": "ed558852-5802-426e-fcf8-415f9065365e",
        "colab": {
          "base_uri": "https://localhost:8080/",
          "height": 36
        }
      },
      "source": [
        "df.shape"
      ],
      "execution_count": 0,
      "outputs": [
        {
          "output_type": "execute_result",
          "data": {
            "text/plain": [
              "(550313, 22)"
            ]
          },
          "metadata": {
            "tags": []
          },
          "execution_count": 4
        }
      ]
    },
    {
      "cell_type": "code",
      "metadata": {
        "id": "JD6oKshdgBeA",
        "colab_type": "code",
        "outputId": "b5b693ef-0c94-4d01-8df9-018bc09172bd",
        "colab": {
          "base_uri": "https://localhost:8080/",
          "height": 520
        }
      },
      "source": [
        "df.info()"
      ],
      "execution_count": 0,
      "outputs": [
        {
          "output_type": "stream",
          "text": [
            "<class 'pandas.core.frame.DataFrame'>\n",
            "RangeIndex: 550313 entries, 0 to 550312\n",
            "Data columns (total 22 columns):\n",
            "url             550313 non-null object\n",
            "city            550313 non-null object\n",
            "city_url        550313 non-null object\n",
            "price           550313 non-null int64\n",
            "year            548826 non-null float64\n",
            "manufacturer    523398 non-null object\n",
            "make            540636 non-null object\n",
            "condition       300239 non-null object\n",
            "cylinders       331316 non-null object\n",
            "fuel            545572 non-null object\n",
            "odometer        439513 non-null float64\n",
            "title_status    546289 non-null object\n",
            "transmission    546258 non-null object\n",
            "VIN             311075 non-null object\n",
            "drive           384475 non-null object\n",
            "size            184057 non-null object\n",
            "type            391134 non-null object\n",
            "paint_color     370292 non-null object\n",
            "image_url       550287 non-null object\n",
            "desc            550283 non-null object\n",
            "lat             538523 non-null float64\n",
            "long            538523 non-null float64\n",
            "dtypes: float64(4), int64(1), object(17)\n",
            "memory usage: 92.4+ MB\n"
          ],
          "name": "stdout"
        }
      ]
    },
    {
      "cell_type": "code",
      "metadata": {
        "id": "qZ2Gq34S-09P",
        "colab_type": "code",
        "colab": {}
      },
      "source": [
        "df= df.drop(columns=['url','image_url', 'lat', 'long', 'city_url', 'desc', 'city', 'VIN'], axis=1)"
      ],
      "execution_count": 0,
      "outputs": []
    },
    {
      "cell_type": "code",
      "metadata": {
        "id": "ezO8sck5_VDp",
        "colab_type": "code",
        "outputId": "2021d250-c5d9-40b1-9208-9605f6942d88",
        "colab": {
          "base_uri": "https://localhost:8080/",
          "height": 278
        }
      },
      "source": [
        "list(df)"
      ],
      "execution_count": 0,
      "outputs": [
        {
          "output_type": "execute_result",
          "data": {
            "text/plain": [
              "['price',\n",
              " 'year',\n",
              " 'manufacturer',\n",
              " 'make',\n",
              " 'condition',\n",
              " 'cylinders',\n",
              " 'fuel',\n",
              " 'odometer',\n",
              " 'title_status',\n",
              " 'transmission',\n",
              " 'drive',\n",
              " 'size',\n",
              " 'type',\n",
              " 'paint_color']"
            ]
          },
          "metadata": {
            "tags": []
          },
          "execution_count": 7
        }
      ]
    },
    {
      "cell_type": "code",
      "metadata": {
        "id": "KsB7Br7aNlbz",
        "colab_type": "code",
        "outputId": "1f60b9fa-93b5-4899-b2d5-00d241a21742",
        "colab": {
          "base_uri": "https://localhost:8080/",
          "height": 488
        }
      },
      "source": [
        "null_values=df.isnull().sum()\n",
        "null_values=pd.DataFrame(null_values,columns=['null'])\n",
        "j=1\n",
        "sum_tot=len(df)\n",
        "null_values['percent']=null_values['null']/sum_tot\n",
        "round(null_values*100,3).sort_values('percent',ascending=False)"
      ],
      "execution_count": 0,
      "outputs": [
        {
          "output_type": "execute_result",
          "data": {
            "text/html": [
              "<div>\n",
              "<style scoped>\n",
              "    .dataframe tbody tr th:only-of-type {\n",
              "        vertical-align: middle;\n",
              "    }\n",
              "\n",
              "    .dataframe tbody tr th {\n",
              "        vertical-align: top;\n",
              "    }\n",
              "\n",
              "    .dataframe thead th {\n",
              "        text-align: right;\n",
              "    }\n",
              "</style>\n",
              "<table border=\"1\" class=\"dataframe\">\n",
              "  <thead>\n",
              "    <tr style=\"text-align: right;\">\n",
              "      <th></th>\n",
              "      <th>null</th>\n",
              "      <th>percent</th>\n",
              "    </tr>\n",
              "  </thead>\n",
              "  <tbody>\n",
              "    <tr>\n",
              "      <th>size</th>\n",
              "      <td>36625600</td>\n",
              "      <td>66.554</td>\n",
              "    </tr>\n",
              "    <tr>\n",
              "      <th>condition</th>\n",
              "      <td>25007400</td>\n",
              "      <td>45.442</td>\n",
              "    </tr>\n",
              "    <tr>\n",
              "      <th>cylinders</th>\n",
              "      <td>21899700</td>\n",
              "      <td>39.795</td>\n",
              "    </tr>\n",
              "    <tr>\n",
              "      <th>paint_color</th>\n",
              "      <td>18002100</td>\n",
              "      <td>32.712</td>\n",
              "    </tr>\n",
              "    <tr>\n",
              "      <th>drive</th>\n",
              "      <td>16583800</td>\n",
              "      <td>30.135</td>\n",
              "    </tr>\n",
              "    <tr>\n",
              "      <th>type</th>\n",
              "      <td>15917900</td>\n",
              "      <td>28.925</td>\n",
              "    </tr>\n",
              "    <tr>\n",
              "      <th>odometer</th>\n",
              "      <td>11080000</td>\n",
              "      <td>20.134</td>\n",
              "    </tr>\n",
              "    <tr>\n",
              "      <th>manufacturer</th>\n",
              "      <td>2691500</td>\n",
              "      <td>4.891</td>\n",
              "    </tr>\n",
              "    <tr>\n",
              "      <th>make</th>\n",
              "      <td>967700</td>\n",
              "      <td>1.758</td>\n",
              "    </tr>\n",
              "    <tr>\n",
              "      <th>fuel</th>\n",
              "      <td>474100</td>\n",
              "      <td>0.862</td>\n",
              "    </tr>\n",
              "    <tr>\n",
              "      <th>transmission</th>\n",
              "      <td>405500</td>\n",
              "      <td>0.737</td>\n",
              "    </tr>\n",
              "    <tr>\n",
              "      <th>title_status</th>\n",
              "      <td>402400</td>\n",
              "      <td>0.731</td>\n",
              "    </tr>\n",
              "    <tr>\n",
              "      <th>year</th>\n",
              "      <td>148700</td>\n",
              "      <td>0.270</td>\n",
              "    </tr>\n",
              "    <tr>\n",
              "      <th>price</th>\n",
              "      <td>0</td>\n",
              "      <td>0.000</td>\n",
              "    </tr>\n",
              "  </tbody>\n",
              "</table>\n",
              "</div>"
            ],
            "text/plain": [
              "                  null  percent\n",
              "size          36625600   66.554\n",
              "condition     25007400   45.442\n",
              "cylinders     21899700   39.795\n",
              "paint_color   18002100   32.712\n",
              "drive         16583800   30.135\n",
              "type          15917900   28.925\n",
              "odometer      11080000   20.134\n",
              "manufacturer   2691500    4.891\n",
              "make            967700    1.758\n",
              "fuel            474100    0.862\n",
              "transmission    405500    0.737\n",
              "title_status    402400    0.731\n",
              "year            148700    0.270\n",
              "price                0    0.000"
            ]
          },
          "metadata": {
            "tags": []
          },
          "execution_count": 6
        }
      ]
    },
    {
      "cell_type": "markdown",
      "metadata": {
        "id": "ef90a9y1FU4G",
        "colab_type": "text"
      },
      "source": [
        "Let's eliminate extreme values from price column"
      ]
    },
    {
      "cell_type": "code",
      "metadata": {
        "id": "NFa-r7IfsVb4",
        "colab_type": "code",
        "outputId": "19a235f4-6618-4273-c02b-c6b00781d088",
        "colab": {
          "base_uri": "https://localhost:8080/",
          "height": 36
        }
      },
      "source": [
        "df[df.price == 0].shape"
      ],
      "execution_count": 0,
      "outputs": [
        {
          "output_type": "execute_result",
          "data": {
            "text/plain": [
              "(48708, 14)"
            ]
          },
          "metadata": {
            "tags": []
          },
          "execution_count": 7
        }
      ]
    },
    {
      "cell_type": "code",
      "metadata": {
        "id": "C_9C6QuwFLod",
        "colab_type": "code",
        "outputId": "431b1d4c-97e6-435f-fb25-a1c10b603360",
        "colab": {
          "base_uri": "https://localhost:8080/",
          "height": 36
        }
      },
      "source": [
        "df[df.price > 100000].shape"
      ],
      "execution_count": 0,
      "outputs": [
        {
          "output_type": "execute_result",
          "data": {
            "text/plain": [
              "(580, 14)"
            ]
          },
          "metadata": {
            "tags": []
          },
          "execution_count": 86
        }
      ]
    },
    {
      "cell_type": "code",
      "metadata": {
        "id": "f8pmETYHoDy_",
        "colab_type": "code",
        "outputId": "24e06ce7-5127-456c-b90b-600e64740471",
        "colab": {
          "base_uri": "https://localhost:8080/",
          "height": 36
        }
      },
      "source": [
        "df[df.price < 750].shape"
      ],
      "execution_count": 0,
      "outputs": [
        {
          "output_type": "execute_result",
          "data": {
            "text/plain": [
              "(61726, 14)"
            ]
          },
          "metadata": {
            "tags": []
          },
          "execution_count": 87
        }
      ]
    },
    {
      "cell_type": "code",
      "metadata": {
        "id": "ll5qy9kJrmSw",
        "colab_type": "code",
        "outputId": "638f2ddd-c56f-4b66-8db2-ae898eeb10ba",
        "colab": {
          "base_uri": "https://localhost:8080/",
          "height": 36
        }
      },
      "source": [
        "df=df[(df.price < 100000) & (df.price >= 750 )]\n",
        "df.shape"
      ],
      "execution_count": 0,
      "outputs": [
        {
          "output_type": "execute_result",
          "data": {
            "text/plain": [
              "(488003, 14)"
            ]
          },
          "metadata": {
            "tags": []
          },
          "execution_count": 8
        }
      ]
    },
    {
      "cell_type": "markdown",
      "metadata": {
        "id": "ehlPv8hkFt9Y",
        "colab_type": "text"
      },
      "source": [
        "Odometers higher than 300k and lower than 10, and models earlier than 1985 may not be good observations for a robust prediction:"
      ]
    },
    {
      "cell_type": "code",
      "metadata": {
        "id": "SAE__X0Jo_gv",
        "colab_type": "code",
        "outputId": "60fb94d1-d1a4-4ca7-c19d-1dde2e6a0ee2",
        "colab": {
          "base_uri": "https://localhost:8080/",
          "height": 36
        }
      },
      "source": [
        "df[df.odometer < 1000].shape"
      ],
      "execution_count": 0,
      "outputs": [
        {
          "output_type": "execute_result",
          "data": {
            "text/plain": [
              "(8113, 14)"
            ]
          },
          "metadata": {
            "tags": []
          },
          "execution_count": 9
        }
      ]
    },
    {
      "cell_type": "code",
      "metadata": {
        "id": "RbS7Ge97oazZ",
        "colab_type": "code",
        "outputId": "b3f61f1a-dbb7-4124-eeed-31fad32b5e2d",
        "colab": {
          "base_uri": "https://localhost:8080/",
          "height": 677
        }
      },
      "source": [
        "df[df.odometer < 1000].sample(20)"
      ],
      "execution_count": 0,
      "outputs": [
        {
          "output_type": "execute_result",
          "data": {
            "text/html": [
              "<div>\n",
              "<style scoped>\n",
              "    .dataframe tbody tr th:only-of-type {\n",
              "        vertical-align: middle;\n",
              "    }\n",
              "\n",
              "    .dataframe tbody tr th {\n",
              "        vertical-align: top;\n",
              "    }\n",
              "\n",
              "    .dataframe thead th {\n",
              "        text-align: right;\n",
              "    }\n",
              "</style>\n",
              "<table border=\"1\" class=\"dataframe\">\n",
              "  <thead>\n",
              "    <tr style=\"text-align: right;\">\n",
              "      <th></th>\n",
              "      <th>price</th>\n",
              "      <th>year</th>\n",
              "      <th>manufacturer</th>\n",
              "      <th>make</th>\n",
              "      <th>condition</th>\n",
              "      <th>cylinders</th>\n",
              "      <th>fuel</th>\n",
              "      <th>odometer</th>\n",
              "      <th>title_status</th>\n",
              "      <th>transmission</th>\n",
              "      <th>drive</th>\n",
              "      <th>size</th>\n",
              "      <th>type</th>\n",
              "      <th>paint_color</th>\n",
              "    </tr>\n",
              "  </thead>\n",
              "  <tbody>\n",
              "    <tr>\n",
              "      <th>66484</th>\n",
              "      <td>27000</td>\n",
              "      <td>2016.0</td>\n",
              "      <td>ford</td>\n",
              "      <td>f-150 lariat automatic</td>\n",
              "      <td>NaN</td>\n",
              "      <td>NaN</td>\n",
              "      <td>gas</td>\n",
              "      <td>0.0</td>\n",
              "      <td>clean</td>\n",
              "      <td>automatic</td>\n",
              "      <td>rwd</td>\n",
              "      <td>NaN</td>\n",
              "      <td>pickup</td>\n",
              "      <td>brown</td>\n",
              "    </tr>\n",
              "    <tr>\n",
              "      <th>388446</th>\n",
              "      <td>98850</td>\n",
              "      <td>2020.0</td>\n",
              "      <td>NaN</td>\n",
              "      <td>INTERNATIONAL MV MOVING VAN</td>\n",
              "      <td>new</td>\n",
              "      <td>6 cylinders</td>\n",
              "      <td>diesel</td>\n",
              "      <td>282.0</td>\n",
              "      <td>clean</td>\n",
              "      <td>automatic</td>\n",
              "      <td>rwd</td>\n",
              "      <td>NaN</td>\n",
              "      <td>truck</td>\n",
              "      <td>white</td>\n",
              "    </tr>\n",
              "    <tr>\n",
              "      <th>46659</th>\n",
              "      <td>2500</td>\n",
              "      <td>2001.0</td>\n",
              "      <td>ford</td>\n",
              "      <td>focus</td>\n",
              "      <td>NaN</td>\n",
              "      <td>NaN</td>\n",
              "      <td>gas</td>\n",
              "      <td>106.0</td>\n",
              "      <td>clean</td>\n",
              "      <td>manual</td>\n",
              "      <td>fwd</td>\n",
              "      <td>NaN</td>\n",
              "      <td>coupe</td>\n",
              "      <td>blue</td>\n",
              "    </tr>\n",
              "    <tr>\n",
              "      <th>225724</th>\n",
              "      <td>7000</td>\n",
              "      <td>1957.0</td>\n",
              "      <td>chevrolet</td>\n",
              "      <td>apache</td>\n",
              "      <td>good</td>\n",
              "      <td>8 cylinders</td>\n",
              "      <td>gas</td>\n",
              "      <td>1.0</td>\n",
              "      <td>clean</td>\n",
              "      <td>manual</td>\n",
              "      <td>4wd</td>\n",
              "      <td>mid-size</td>\n",
              "      <td>pickup</td>\n",
              "      <td>red</td>\n",
              "    </tr>\n",
              "    <tr>\n",
              "      <th>6515</th>\n",
              "      <td>28900</td>\n",
              "      <td>2016.0</td>\n",
              "      <td>ford</td>\n",
              "      <td>mustang gt coupe 2d</td>\n",
              "      <td>good</td>\n",
              "      <td>8 cylinders</td>\n",
              "      <td>gas</td>\n",
              "      <td>779.0</td>\n",
              "      <td>clean</td>\n",
              "      <td>automatic</td>\n",
              "      <td>rwd</td>\n",
              "      <td>NaN</td>\n",
              "      <td>coupe</td>\n",
              "      <td>red</td>\n",
              "    </tr>\n",
              "    <tr>\n",
              "      <th>44373</th>\n",
              "      <td>7500</td>\n",
              "      <td>2009.0</td>\n",
              "      <td>bmw</td>\n",
              "      <td>x5</td>\n",
              "      <td>good</td>\n",
              "      <td>8 cylinders</td>\n",
              "      <td>gas</td>\n",
              "      <td>145.0</td>\n",
              "      <td>clean</td>\n",
              "      <td>automatic</td>\n",
              "      <td>NaN</td>\n",
              "      <td>NaN</td>\n",
              "      <td>NaN</td>\n",
              "      <td>NaN</td>\n",
              "    </tr>\n",
              "    <tr>\n",
              "      <th>437848</th>\n",
              "      <td>6600</td>\n",
              "      <td>1991.0</td>\n",
              "      <td>toyota</td>\n",
              "      <td>mr2 turbo</td>\n",
              "      <td>excellent</td>\n",
              "      <td>4 cylinders</td>\n",
              "      <td>gas</td>\n",
              "      <td>242.0</td>\n",
              "      <td>clean</td>\n",
              "      <td>manual</td>\n",
              "      <td>rwd</td>\n",
              "      <td>NaN</td>\n",
              "      <td>NaN</td>\n",
              "      <td>black</td>\n",
              "    </tr>\n",
              "    <tr>\n",
              "      <th>462798</th>\n",
              "      <td>11495</td>\n",
              "      <td>2013.0</td>\n",
              "      <td>dodge</td>\n",
              "      <td>charger</td>\n",
              "      <td>NaN</td>\n",
              "      <td>NaN</td>\n",
              "      <td>gas</td>\n",
              "      <td>1.0</td>\n",
              "      <td>clean</td>\n",
              "      <td>automatic</td>\n",
              "      <td>rwd</td>\n",
              "      <td>NaN</td>\n",
              "      <td>sedan</td>\n",
              "      <td>NaN</td>\n",
              "    </tr>\n",
              "    <tr>\n",
              "      <th>26887</th>\n",
              "      <td>32314</td>\n",
              "      <td>2019.0</td>\n",
              "      <td>mazda</td>\n",
              "      <td>miata rf club</td>\n",
              "      <td>NaN</td>\n",
              "      <td>4 cylinders</td>\n",
              "      <td>gas</td>\n",
              "      <td>3.0</td>\n",
              "      <td>clean</td>\n",
              "      <td>automatic</td>\n",
              "      <td>rwd</td>\n",
              "      <td>NaN</td>\n",
              "      <td>coupe</td>\n",
              "      <td>NaN</td>\n",
              "    </tr>\n",
              "    <tr>\n",
              "      <th>383334</th>\n",
              "      <td>16500</td>\n",
              "      <td>2019.0</td>\n",
              "      <td>honda</td>\n",
              "      <td>hr-v</td>\n",
              "      <td>like new</td>\n",
              "      <td>4 cylinders</td>\n",
              "      <td>gas</td>\n",
              "      <td>350.0</td>\n",
              "      <td>rebuilt</td>\n",
              "      <td>automatic</td>\n",
              "      <td>4wd</td>\n",
              "      <td>NaN</td>\n",
              "      <td>SUV</td>\n",
              "      <td>grey</td>\n",
              "    </tr>\n",
              "    <tr>\n",
              "      <th>177767</th>\n",
              "      <td>3995</td>\n",
              "      <td>2003.0</td>\n",
              "      <td>buick</td>\n",
              "      <td>century</td>\n",
              "      <td>NaN</td>\n",
              "      <td>NaN</td>\n",
              "      <td>gas</td>\n",
              "      <td>0.0</td>\n",
              "      <td>clean</td>\n",
              "      <td>automatic</td>\n",
              "      <td>fwd</td>\n",
              "      <td>NaN</td>\n",
              "      <td>NaN</td>\n",
              "      <td>NaN</td>\n",
              "    </tr>\n",
              "    <tr>\n",
              "      <th>217838</th>\n",
              "      <td>2900</td>\n",
              "      <td>2005.0</td>\n",
              "      <td>ford</td>\n",
              "      <td>escape</td>\n",
              "      <td>good</td>\n",
              "      <td>6 cylinders</td>\n",
              "      <td>gas</td>\n",
              "      <td>148.0</td>\n",
              "      <td>clean</td>\n",
              "      <td>automatic</td>\n",
              "      <td>4wd</td>\n",
              "      <td>NaN</td>\n",
              "      <td>SUV</td>\n",
              "      <td>blue</td>\n",
              "    </tr>\n",
              "    <tr>\n",
              "      <th>345219</th>\n",
              "      <td>33900</td>\n",
              "      <td>2019.0</td>\n",
              "      <td>dodge</td>\n",
              "      <td>caravan</td>\n",
              "      <td>excellent</td>\n",
              "      <td>6 cylinders</td>\n",
              "      <td>gas</td>\n",
              "      <td>10.0</td>\n",
              "      <td>clean</td>\n",
              "      <td>automatic</td>\n",
              "      <td>fwd</td>\n",
              "      <td>NaN</td>\n",
              "      <td>NaN</td>\n",
              "      <td>silver</td>\n",
              "    </tr>\n",
              "    <tr>\n",
              "      <th>141794</th>\n",
              "      <td>2995</td>\n",
              "      <td>2006.0</td>\n",
              "      <td>nissan</td>\n",
              "      <td>altima</td>\n",
              "      <td>excellent</td>\n",
              "      <td>4 cylinders</td>\n",
              "      <td>gas</td>\n",
              "      <td>95.0</td>\n",
              "      <td>clean</td>\n",
              "      <td>automatic</td>\n",
              "      <td>fwd</td>\n",
              "      <td>NaN</td>\n",
              "      <td>NaN</td>\n",
              "      <td>NaN</td>\n",
              "    </tr>\n",
              "    <tr>\n",
              "      <th>471044</th>\n",
              "      <td>1100</td>\n",
              "      <td>1998.0</td>\n",
              "      <td>dodge</td>\n",
              "      <td>avenger</td>\n",
              "      <td>good</td>\n",
              "      <td>NaN</td>\n",
              "      <td>gas</td>\n",
              "      <td>120.0</td>\n",
              "      <td>clean</td>\n",
              "      <td>automatic</td>\n",
              "      <td>NaN</td>\n",
              "      <td>NaN</td>\n",
              "      <td>coupe</td>\n",
              "      <td>NaN</td>\n",
              "    </tr>\n",
              "    <tr>\n",
              "      <th>524806</th>\n",
              "      <td>6200</td>\n",
              "      <td>1922.0</td>\n",
              "      <td>ford</td>\n",
              "      <td>caberet model t</td>\n",
              "      <td>excellent</td>\n",
              "      <td>4 cylinders</td>\n",
              "      <td>gas</td>\n",
              "      <td>1.0</td>\n",
              "      <td>clean</td>\n",
              "      <td>automatic</td>\n",
              "      <td>rwd</td>\n",
              "      <td>full-size</td>\n",
              "      <td>convertible</td>\n",
              "      <td>black</td>\n",
              "    </tr>\n",
              "    <tr>\n",
              "      <th>214031</th>\n",
              "      <td>6900</td>\n",
              "      <td>2004.0</td>\n",
              "      <td>toyota</td>\n",
              "      <td>tacoma</td>\n",
              "      <td>good</td>\n",
              "      <td>6 cylinders</td>\n",
              "      <td>gas</td>\n",
              "      <td>300.0</td>\n",
              "      <td>clean</td>\n",
              "      <td>automatic</td>\n",
              "      <td>rwd</td>\n",
              "      <td>full-size</td>\n",
              "      <td>truck</td>\n",
              "      <td>white</td>\n",
              "    </tr>\n",
              "    <tr>\n",
              "      <th>51464</th>\n",
              "      <td>9500</td>\n",
              "      <td>2010.0</td>\n",
              "      <td>toyota</td>\n",
              "      <td>rav4</td>\n",
              "      <td>excellent</td>\n",
              "      <td>4 cylinders</td>\n",
              "      <td>gas</td>\n",
              "      <td>84.0</td>\n",
              "      <td>lien</td>\n",
              "      <td>automatic</td>\n",
              "      <td>4wd</td>\n",
              "      <td>NaN</td>\n",
              "      <td>SUV</td>\n",
              "      <td>red</td>\n",
              "    </tr>\n",
              "    <tr>\n",
              "      <th>460733</th>\n",
              "      <td>14500</td>\n",
              "      <td>1986.0</td>\n",
              "      <td>chevrolet</td>\n",
              "      <td>pickup</td>\n",
              "      <td>excellent</td>\n",
              "      <td>NaN</td>\n",
              "      <td>gas</td>\n",
              "      <td>0.0</td>\n",
              "      <td>clean</td>\n",
              "      <td>automatic</td>\n",
              "      <td>4wd</td>\n",
              "      <td>NaN</td>\n",
              "      <td>NaN</td>\n",
              "      <td>NaN</td>\n",
              "    </tr>\n",
              "    <tr>\n",
              "      <th>385677</th>\n",
              "      <td>1399</td>\n",
              "      <td>2005.0</td>\n",
              "      <td>chevrolet</td>\n",
              "      <td>1500</td>\n",
              "      <td>fair</td>\n",
              "      <td>8 cylinders</td>\n",
              "      <td>gas</td>\n",
              "      <td>129.0</td>\n",
              "      <td>clean</td>\n",
              "      <td>automatic</td>\n",
              "      <td>rwd</td>\n",
              "      <td>full-size</td>\n",
              "      <td>truck</td>\n",
              "      <td>white</td>\n",
              "    </tr>\n",
              "  </tbody>\n",
              "</table>\n",
              "</div>"
            ],
            "text/plain": [
              "        price    year manufacturer  ...       size         type paint_color\n",
              "66484   27000  2016.0         ford  ...        NaN       pickup       brown\n",
              "388446  98850  2020.0          NaN  ...        NaN        truck       white\n",
              "46659    2500  2001.0         ford  ...        NaN        coupe        blue\n",
              "225724   7000  1957.0    chevrolet  ...   mid-size       pickup         red\n",
              "6515    28900  2016.0         ford  ...        NaN        coupe         red\n",
              "44373    7500  2009.0          bmw  ...        NaN          NaN         NaN\n",
              "437848   6600  1991.0       toyota  ...        NaN          NaN       black\n",
              "462798  11495  2013.0        dodge  ...        NaN        sedan         NaN\n",
              "26887   32314  2019.0        mazda  ...        NaN        coupe         NaN\n",
              "383334  16500  2019.0        honda  ...        NaN          SUV        grey\n",
              "177767   3995  2003.0        buick  ...        NaN          NaN         NaN\n",
              "217838   2900  2005.0         ford  ...        NaN          SUV        blue\n",
              "345219  33900  2019.0        dodge  ...        NaN          NaN      silver\n",
              "141794   2995  2006.0       nissan  ...        NaN          NaN         NaN\n",
              "471044   1100  1998.0        dodge  ...        NaN        coupe         NaN\n",
              "524806   6200  1922.0         ford  ...  full-size  convertible       black\n",
              "214031   6900  2004.0       toyota  ...  full-size        truck       white\n",
              "51464    9500  2010.0       toyota  ...        NaN          SUV         red\n",
              "460733  14500  1986.0    chevrolet  ...        NaN          NaN         NaN\n",
              "385677   1399  2005.0    chevrolet  ...  full-size        truck       white\n",
              "\n",
              "[20 rows x 14 columns]"
            ]
          },
          "metadata": {
            "tags": []
          },
          "execution_count": 22
        }
      ]
    },
    {
      "cell_type": "code",
      "metadata": {
        "id": "sGicoglnr5Km",
        "colab_type": "code",
        "outputId": "d55dbd68-b1a4-478d-c112-c2d361b80023",
        "colab": {
          "base_uri": "https://localhost:8080/",
          "height": 36
        }
      },
      "source": [
        "df[df.odometer >300000].shape"
      ],
      "execution_count": 0,
      "outputs": [
        {
          "output_type": "execute_result",
          "data": {
            "text/plain": [
              "(3066, 14)"
            ]
          },
          "metadata": {
            "tags": []
          },
          "execution_count": 23
        }
      ]
    },
    {
      "cell_type": "code",
      "metadata": {
        "id": "TIu4EX29F92a",
        "colab_type": "code",
        "outputId": "80dde6e9-f375-4ddf-e117-8d10867b7628",
        "colab": {
          "base_uri": "https://localhost:8080/",
          "height": 36
        }
      },
      "source": [
        "df=df[(df.odometer < 300000) & (df.odometer > 1000)]\n",
        "df=df[df.year>1985]\n",
        "df.shape"
      ],
      "execution_count": 0,
      "outputs": [
        {
          "output_type": "execute_result",
          "data": {
            "text/plain": [
              "(375332, 14)"
            ]
          },
          "metadata": {
            "tags": []
          },
          "execution_count": 26
        }
      ]
    },
    {
      "cell_type": "code",
      "metadata": {
        "id": "KaAuWZMbt7Ch",
        "colab_type": "code",
        "outputId": "15169c70-522f-416e-8efa-3ae32dff749f",
        "colab": {
          "base_uri": "https://localhost:8080/",
          "height": 488
        }
      },
      "source": [
        "null_values=df.isnull().sum()\n",
        "null_values=pd.DataFrame(null_values,columns=['null'])\n",
        "j=1\n",
        "sum_tot=len(df)\n",
        "null_values['percent']=null_values['null']/sum_tot\n",
        "round(null_values*100,3).sort_values('percent',ascending=False)"
      ],
      "execution_count": 0,
      "outputs": [
        {
          "output_type": "execute_result",
          "data": {
            "text/html": [
              "<div>\n",
              "<style scoped>\n",
              "    .dataframe tbody tr th:only-of-type {\n",
              "        vertical-align: middle;\n",
              "    }\n",
              "\n",
              "    .dataframe tbody tr th {\n",
              "        vertical-align: top;\n",
              "    }\n",
              "\n",
              "    .dataframe thead th {\n",
              "        text-align: right;\n",
              "    }\n",
              "</style>\n",
              "<table border=\"1\" class=\"dataframe\">\n",
              "  <thead>\n",
              "    <tr style=\"text-align: right;\">\n",
              "      <th></th>\n",
              "      <th>null</th>\n",
              "      <th>percent</th>\n",
              "    </tr>\n",
              "  </thead>\n",
              "  <tbody>\n",
              "    <tr>\n",
              "      <th>size</th>\n",
              "      <td>23864700</td>\n",
              "      <td>63.583</td>\n",
              "    </tr>\n",
              "    <tr>\n",
              "      <th>condition</th>\n",
              "      <td>15331600</td>\n",
              "      <td>40.848</td>\n",
              "    </tr>\n",
              "    <tr>\n",
              "      <th>cylinders</th>\n",
              "      <td>12797900</td>\n",
              "      <td>34.098</td>\n",
              "    </tr>\n",
              "    <tr>\n",
              "      <th>paint_color</th>\n",
              "      <td>9108700</td>\n",
              "      <td>24.268</td>\n",
              "    </tr>\n",
              "    <tr>\n",
              "      <th>drive</th>\n",
              "      <td>8094900</td>\n",
              "      <td>21.567</td>\n",
              "    </tr>\n",
              "    <tr>\n",
              "      <th>type</th>\n",
              "      <td>7308300</td>\n",
              "      <td>19.472</td>\n",
              "    </tr>\n",
              "    <tr>\n",
              "      <th>manufacturer</th>\n",
              "      <td>1138100</td>\n",
              "      <td>3.032</td>\n",
              "    </tr>\n",
              "    <tr>\n",
              "      <th>make</th>\n",
              "      <td>375000</td>\n",
              "      <td>0.999</td>\n",
              "    </tr>\n",
              "    <tr>\n",
              "      <th>fuel</th>\n",
              "      <td>347800</td>\n",
              "      <td>0.927</td>\n",
              "    </tr>\n",
              "    <tr>\n",
              "      <th>title_status</th>\n",
              "      <td>328100</td>\n",
              "      <td>0.874</td>\n",
              "    </tr>\n",
              "    <tr>\n",
              "      <th>transmission</th>\n",
              "      <td>321800</td>\n",
              "      <td>0.857</td>\n",
              "    </tr>\n",
              "    <tr>\n",
              "      <th>price</th>\n",
              "      <td>0</td>\n",
              "      <td>0.000</td>\n",
              "    </tr>\n",
              "    <tr>\n",
              "      <th>year</th>\n",
              "      <td>0</td>\n",
              "      <td>0.000</td>\n",
              "    </tr>\n",
              "    <tr>\n",
              "      <th>odometer</th>\n",
              "      <td>0</td>\n",
              "      <td>0.000</td>\n",
              "    </tr>\n",
              "  </tbody>\n",
              "</table>\n",
              "</div>"
            ],
            "text/plain": [
              "                  null  percent\n",
              "size          23864700   63.583\n",
              "condition     15331600   40.848\n",
              "cylinders     12797900   34.098\n",
              "paint_color    9108700   24.268\n",
              "drive          8094900   21.567\n",
              "type           7308300   19.472\n",
              "manufacturer   1138100    3.032\n",
              "make            375000    0.999\n",
              "fuel            347800    0.927\n",
              "title_status    328100    0.874\n",
              "transmission    321800    0.857\n",
              "price                0    0.000\n",
              "year                 0    0.000\n",
              "odometer             0    0.000"
            ]
          },
          "metadata": {
            "tags": []
          },
          "execution_count": 27
        }
      ]
    },
    {
      "cell_type": "markdown",
      "metadata": {
        "id": "MFJu_wSrhjvi",
        "colab_type": "text"
      },
      "source": [
        "Now, it's time to fill some missing data in a meaningful way."
      ]
    },
    {
      "cell_type": "markdown",
      "metadata": {
        "id": "WiIB4mUcivFt",
        "colab_type": "text"
      },
      "source": [
        "##### Dealing with missing 'condition' values\n"
      ]
    },
    {
      "cell_type": "code",
      "metadata": {
        "id": "gxWkf36JBbHO",
        "colab_type": "code",
        "outputId": "3788135a-a0d7-49af-a660-d553fbae5f60",
        "colab": {
          "base_uri": "https://localhost:8080/",
          "height": 36
        }
      },
      "source": [
        "df['condition'].isnull().sum()"
      ],
      "execution_count": 0,
      "outputs": [
        {
          "output_type": "execute_result",
          "data": {
            "text/plain": [
              "153316"
            ]
          },
          "metadata": {
            "tags": []
          },
          "execution_count": 28
        }
      ]
    },
    {
      "cell_type": "code",
      "metadata": {
        "id": "SRPQnOvRjBuB",
        "colab_type": "code",
        "outputId": "d6752c12-70d4-466b-d895-2c97164d67f2",
        "colab": {
          "base_uri": "https://localhost:8080/",
          "height": 36
        }
      },
      "source": [
        "df.loc[(df['year'] >= 2017)]['condition'].isnull().sum()"
      ],
      "execution_count": 0,
      "outputs": [
        {
          "output_type": "execute_result",
          "data": {
            "text/plain": [
              "24000"
            ]
          },
          "metadata": {
            "tags": []
          },
          "execution_count": 29
        }
      ]
    },
    {
      "cell_type": "code",
      "metadata": {
        "id": "s7p7sriQjcyZ",
        "colab_type": "code",
        "outputId": "5d7f27ba-65b8-4d47-fd0b-699fe6c2d2c7",
        "colab": {
          "base_uri": "https://localhost:8080/",
          "height": 148
        }
      },
      "source": [
        "df.condition.value_counts()"
      ],
      "execution_count": 0,
      "outputs": [
        {
          "output_type": "execute_result",
          "data": {
            "text/plain": [
              "excellent    107483\n",
              "good          84178\n",
              "like new      21873\n",
              "fair           7387\n",
              "new             625\n",
              "salvage         470\n",
              "Name: condition, dtype: int64"
            ]
          },
          "metadata": {
            "tags": []
          },
          "execution_count": 30
        }
      ]
    },
    {
      "cell_type": "markdown",
      "metadata": {
        "id": "rL5naMV3jM2b",
        "colab_type": "text"
      },
      "source": [
        "###### I will label all cars:\n",
        "##### after 2019 as \"new\"\n",
        "##### 2017-2019 as \"like new\"\n"
      ]
    },
    {
      "cell_type": "code",
      "metadata": {
        "id": "ATJYoEdsjWfZ",
        "colab_type": "code",
        "colab": {}
      },
      "source": [
        "df.loc[df.year>=2019, 'condition'] = df.loc[df.year>=2019, 'condition'].fillna('new')\n",
        "df.loc[df.year>=2017, 'condition'] = df.loc[df.year>=2017, 'condition'].fillna('like new')"
      ],
      "execution_count": 0,
      "outputs": []
    },
    {
      "cell_type": "code",
      "metadata": {
        "id": "yw5ZiMq0kSv6",
        "colab_type": "code",
        "outputId": "c1c9ba45-0250-4fb6-a423-2917d86b8990",
        "colab": {
          "base_uri": "https://localhost:8080/",
          "height": 148
        }
      },
      "source": [
        "df.condition.value_counts()"
      ],
      "execution_count": 0,
      "outputs": [
        {
          "output_type": "execute_result",
          "data": {
            "text/plain": [
              "excellent    107483\n",
              "good          84178\n",
              "like new      43050\n",
              "fair           7387\n",
              "new            3448\n",
              "salvage         470\n",
              "Name: condition, dtype: int64"
            ]
          },
          "metadata": {
            "tags": []
          },
          "execution_count": 32
        }
      ]
    },
    {
      "cell_type": "markdown",
      "metadata": {
        "id": "ofyX28oGOAzZ",
        "colab_type": "text"
      },
      "source": [
        "##### I will assume that milage of the car affects it's condition. Therefore, I will fill missing values depending on odometer."
      ]
    },
    {
      "cell_type": "code",
      "metadata": {
        "id": "qP11RdMfOPH1",
        "colab_type": "code",
        "colab": {}
      },
      "source": [
        "excellent_odo_mean = df[df['condition'] == 'excellent']['odometer'].mean()\n",
        "good_odo_mean = df[df['condition'] == 'good']['odometer'].mean()\n",
        "like_new_odo_mean = df[df['condition'] == 'like new']['odometer'].mean()\n",
        "salvage_odo_mean = df[df['condition'] == 'salvage']['odometer'].mean()\n",
        "fair_odo_mean = df[df['condition'] == 'fair']['odometer'].mean()"
      ],
      "execution_count": 0,
      "outputs": []
    },
    {
      "cell_type": "code",
      "metadata": {
        "id": "l_Kou9RFQ_mR",
        "colab_type": "code",
        "outputId": "25ff603e-bdba-4c0b-ca80-db1c43b7fc55",
        "colab": {
          "base_uri": "https://localhost:8080/",
          "height": 111
        }
      },
      "source": [
        "print('Like new average odometer:', round( like_new_odo_mean,2))\n",
        "print('Excellent average odometer:', round( excellent_odo_mean,2))\n",
        "print('Good average odometer:', round( good_odo_mean,2))\n",
        "print('Fair average odometer:', round( fair_odo_mean,2))\n",
        "print('Salvage average odometer:', round( salvage_odo_mean,2))\n"
      ],
      "execution_count": 0,
      "outputs": [
        {
          "output_type": "stream",
          "text": [
            "Like new average odometer: 56933.98\n",
            "Excellent average odometer: 107756.25\n",
            "Good average odometer: 119964.83\n",
            "Fair average odometer: 172456.97\n",
            "Salvage average odometer: 119788.47\n"
          ],
          "name": "stdout"
        }
      ]
    },
    {
      "cell_type": "code",
      "metadata": {
        "id": "8TgtGBcBJdEv",
        "colab_type": "code",
        "outputId": "0330424e-2fb9-4f92-d2dd-fda6a692c345",
        "colab": {
          "base_uri": "https://localhost:8080/",
          "height": 148
        }
      },
      "source": [
        "df.loc[df['odometer'] <= like_new_odo_mean, 'condition'].value_counts()"
      ],
      "execution_count": 0,
      "outputs": [
        {
          "output_type": "execute_result",
          "data": {
            "text/plain": [
              "like new     27612\n",
              "excellent    18862\n",
              "good         16609\n",
              "new           3130\n",
              "fair           152\n",
              "salvage        111\n",
              "Name: condition, dtype: int64"
            ]
          },
          "metadata": {
            "tags": []
          },
          "execution_count": 35
        }
      ]
    },
    {
      "cell_type": "code",
      "metadata": {
        "id": "ILjZe0HnGkIk",
        "colab_type": "code",
        "colab": {}
      },
      "source": [
        "df.loc[df['odometer'] <= like_new_odo_mean, 'condition'] = df.loc[df['odometer'] <= like_new_odo_mean, 'condition'].fillna('like new')\n",
        "\n",
        "df.loc[df['odometer'] >= fair_odo_mean, 'condition'] = df.loc[df['odometer'] >= fair_odo_mean, 'condition'].fillna('fair')\n",
        "\n",
        "df.loc[((df['odometer'] > like_new_odo_mean) & \n",
        "       (df['odometer'] <= excellent_odo_mean)), 'condition'] = df.loc[((df['odometer'] > like_new_odo_mean) & \n",
        "       (df['odometer'] <= excellent_odo_mean)), 'condition'].fillna('excellent')\n",
        "\n",
        "df.loc[((df['odometer'] > excellent_odo_mean) & \n",
        "       (df['odometer'] <= good_odo_mean)), 'condition'] = df.loc[((df['odometer'] > excellent_odo_mean) & \n",
        "       (df['odometer'] <= good_odo_mean)), 'condition'].fillna('good')\n",
        "\n",
        "df.loc[((df['odometer'] > good_odo_mean) & \n",
        "       (df['odometer'] <= fair_odo_mean)), 'condition'] = df.loc[((df['odometer'] > good_odo_mean) & \n",
        "       (df['odometer'] <= fair_odo_mean)), 'condition'].fillna('salvage')"
      ],
      "execution_count": 0,
      "outputs": []
    },
    {
      "cell_type": "code",
      "metadata": {
        "id": "hboS_uMwCSfJ",
        "colab_type": "code",
        "outputId": "3cf12c91-e3de-44d5-8b15-d6baa857e2f6",
        "colab": {
          "base_uri": "https://localhost:8080/",
          "height": 488
        }
      },
      "source": [
        "null_values=df.isnull().sum()\n",
        "null_values=pd.DataFrame(null_values,columns=['null'])\n",
        "j=1\n",
        "sum_tot=len(df)\n",
        "null_values['percent']=null_values['null']/sum_tot\n",
        "round(null_values*100,3).sort_values('percent',ascending=False)"
      ],
      "execution_count": 0,
      "outputs": [
        {
          "output_type": "execute_result",
          "data": {
            "text/html": [
              "<div>\n",
              "<style scoped>\n",
              "    .dataframe tbody tr th:only-of-type {\n",
              "        vertical-align: middle;\n",
              "    }\n",
              "\n",
              "    .dataframe tbody tr th {\n",
              "        vertical-align: top;\n",
              "    }\n",
              "\n",
              "    .dataframe thead th {\n",
              "        text-align: right;\n",
              "    }\n",
              "</style>\n",
              "<table border=\"1\" class=\"dataframe\">\n",
              "  <thead>\n",
              "    <tr style=\"text-align: right;\">\n",
              "      <th></th>\n",
              "      <th>null</th>\n",
              "      <th>percent</th>\n",
              "    </tr>\n",
              "  </thead>\n",
              "  <tbody>\n",
              "    <tr>\n",
              "      <th>size</th>\n",
              "      <td>23864700</td>\n",
              "      <td>63.583</td>\n",
              "    </tr>\n",
              "    <tr>\n",
              "      <th>cylinders</th>\n",
              "      <td>12797900</td>\n",
              "      <td>34.098</td>\n",
              "    </tr>\n",
              "    <tr>\n",
              "      <th>paint_color</th>\n",
              "      <td>9108700</td>\n",
              "      <td>24.268</td>\n",
              "    </tr>\n",
              "    <tr>\n",
              "      <th>drive</th>\n",
              "      <td>8094900</td>\n",
              "      <td>21.567</td>\n",
              "    </tr>\n",
              "    <tr>\n",
              "      <th>type</th>\n",
              "      <td>7308300</td>\n",
              "      <td>19.472</td>\n",
              "    </tr>\n",
              "    <tr>\n",
              "      <th>manufacturer</th>\n",
              "      <td>1138100</td>\n",
              "      <td>3.032</td>\n",
              "    </tr>\n",
              "    <tr>\n",
              "      <th>make</th>\n",
              "      <td>375000</td>\n",
              "      <td>0.999</td>\n",
              "    </tr>\n",
              "    <tr>\n",
              "      <th>fuel</th>\n",
              "      <td>347800</td>\n",
              "      <td>0.927</td>\n",
              "    </tr>\n",
              "    <tr>\n",
              "      <th>title_status</th>\n",
              "      <td>328100</td>\n",
              "      <td>0.874</td>\n",
              "    </tr>\n",
              "    <tr>\n",
              "      <th>transmission</th>\n",
              "      <td>321800</td>\n",
              "      <td>0.857</td>\n",
              "    </tr>\n",
              "    <tr>\n",
              "      <th>price</th>\n",
              "      <td>0</td>\n",
              "      <td>0.000</td>\n",
              "    </tr>\n",
              "    <tr>\n",
              "      <th>year</th>\n",
              "      <td>0</td>\n",
              "      <td>0.000</td>\n",
              "    </tr>\n",
              "    <tr>\n",
              "      <th>condition</th>\n",
              "      <td>0</td>\n",
              "      <td>0.000</td>\n",
              "    </tr>\n",
              "    <tr>\n",
              "      <th>odometer</th>\n",
              "      <td>0</td>\n",
              "      <td>0.000</td>\n",
              "    </tr>\n",
              "  </tbody>\n",
              "</table>\n",
              "</div>"
            ],
            "text/plain": [
              "                  null  percent\n",
              "size          23864700   63.583\n",
              "cylinders     12797900   34.098\n",
              "paint_color    9108700   24.268\n",
              "drive          8094900   21.567\n",
              "type           7308300   19.472\n",
              "manufacturer   1138100    3.032\n",
              "make            375000    0.999\n",
              "fuel            347800    0.927\n",
              "title_status    328100    0.874\n",
              "transmission    321800    0.857\n",
              "price                0    0.000\n",
              "year                 0    0.000\n",
              "condition            0    0.000\n",
              "odometer             0    0.000"
            ]
          },
          "metadata": {
            "tags": []
          },
          "execution_count": 37
        }
      ]
    },
    {
      "cell_type": "markdown",
      "metadata": {
        "id": "Mh-8nEOPC9UM",
        "colab_type": "text"
      },
      "source": [
        "#### Dealing with missing 'cylinders' values"
      ]
    },
    {
      "cell_type": "code",
      "metadata": {
        "id": "VmYjgVM6C6Rd",
        "colab_type": "code",
        "outputId": "df1ee6a5-58fd-4a85-c222-a6baa82acc17",
        "colab": {
          "base_uri": "https://localhost:8080/",
          "height": 186
        }
      },
      "source": [
        "df.cylinders.value_counts()"
      ],
      "execution_count": 0,
      "outputs": [
        {
          "output_type": "execute_result",
          "data": {
            "text/plain": [
              "6 cylinders     90977\n",
              "4 cylinders     76361\n",
              "8 cylinders     74885\n",
              "5 cylinders      2423\n",
              "10 cylinders     1291\n",
              "other             917\n",
              "3 cylinders       355\n",
              "12 cylinders      144\n",
              "Name: cylinders, dtype: int64"
            ]
          },
          "metadata": {
            "tags": []
          },
          "execution_count": 38
        }
      ]
    },
    {
      "cell_type": "markdown",
      "metadata": {
        "id": "l4kwLPgDwEGf",
        "colab_type": "text"
      },
      "source": [
        "With time series data, using pad/ffill is extremely common so that the “last known value” is available at every time point. In other words, ffill propagates last valid observation forward to next valid. Therefore, **rest of the missing values will be filled with 'ffill' method.**"
      ]
    },
    {
      "cell_type": "code",
      "metadata": {
        "id": "CvzVOWybwDm-",
        "colab_type": "code",
        "colab": {}
      },
      "source": [
        "df['transmission'] = df['transmission'].fillna(method='ffill')\n",
        "df['cylinders'] = df['cylinders'].fillna(method='ffill')\n",
        "df['title_status'] = df['title_status'].fillna(method='ffill')\n",
        "df['fuel'] = df['fuel'].fillna(method='ffill')\n",
        "df['size'] = df['size'].fillna(method='ffill')\n",
        "df['paint_color'] = df['paint_color'].fillna(method='ffill')\n",
        "df['drive'] = df['drive'].fillna(method='ffill')\n",
        "df['manufacturer'] = df['manufacturer'].fillna(method='ffill')\n",
        "df['make'] = df['make'].fillna(method='ffill')\n",
        "df['type'] = df['type'].fillna(method='ffill')"
      ],
      "execution_count": 0,
      "outputs": []
    },
    {
      "cell_type": "code",
      "metadata": {
        "id": "VcJO53u_2RFp",
        "colab_type": "code",
        "outputId": "77817278-c23a-48dd-9d8b-54716699c3b0",
        "colab": {
          "base_uri": "https://localhost:8080/",
          "height": 298
        }
      },
      "source": [
        "df.isnull().sum()"
      ],
      "execution_count": 0,
      "outputs": [
        {
          "output_type": "execute_result",
          "data": {
            "text/plain": [
              "price           0\n",
              "year            0\n",
              "manufacturer    0\n",
              "make            0\n",
              "condition       0\n",
              "cylinders       0\n",
              "fuel            0\n",
              "odometer        0\n",
              "title_status    0\n",
              "transmission    0\n",
              "drive           0\n",
              "size            0\n",
              "type            0\n",
              "paint_color     0\n",
              "dtype: int64"
            ]
          },
          "metadata": {
            "tags": []
          },
          "execution_count": 47
        }
      ]
    },
    {
      "cell_type": "code",
      "metadata": {
        "id": "zte7KqW1DVIc",
        "colab_type": "code",
        "outputId": "98a60650-d736-40d8-80b4-e1ba70e16e75",
        "colab": {
          "base_uri": "https://localhost:8080/",
          "height": 488
        }
      },
      "source": [
        "null_values=df.isnull().sum()\n",
        "null_values=pd.DataFrame(null_values,columns=['null'])\n",
        "j=1\n",
        "sum_tot=len(df)\n",
        "null_values['percent']=null_values['null']/sum_tot\n",
        "round(null_values*100,3).sort_values('percent',ascending=False)"
      ],
      "execution_count": 0,
      "outputs": [
        {
          "output_type": "execute_result",
          "data": {
            "text/html": [
              "<div>\n",
              "<style scoped>\n",
              "    .dataframe tbody tr th:only-of-type {\n",
              "        vertical-align: middle;\n",
              "    }\n",
              "\n",
              "    .dataframe tbody tr th {\n",
              "        vertical-align: top;\n",
              "    }\n",
              "\n",
              "    .dataframe thead th {\n",
              "        text-align: right;\n",
              "    }\n",
              "</style>\n",
              "<table border=\"1\" class=\"dataframe\">\n",
              "  <thead>\n",
              "    <tr style=\"text-align: right;\">\n",
              "      <th></th>\n",
              "      <th>null</th>\n",
              "      <th>percent</th>\n",
              "    </tr>\n",
              "  </thead>\n",
              "  <tbody>\n",
              "    <tr>\n",
              "      <th>price</th>\n",
              "      <td>0</td>\n",
              "      <td>0.0</td>\n",
              "    </tr>\n",
              "    <tr>\n",
              "      <th>year</th>\n",
              "      <td>0</td>\n",
              "      <td>0.0</td>\n",
              "    </tr>\n",
              "    <tr>\n",
              "      <th>manufacturer</th>\n",
              "      <td>0</td>\n",
              "      <td>0.0</td>\n",
              "    </tr>\n",
              "    <tr>\n",
              "      <th>make</th>\n",
              "      <td>0</td>\n",
              "      <td>0.0</td>\n",
              "    </tr>\n",
              "    <tr>\n",
              "      <th>condition</th>\n",
              "      <td>0</td>\n",
              "      <td>0.0</td>\n",
              "    </tr>\n",
              "    <tr>\n",
              "      <th>cylinders</th>\n",
              "      <td>0</td>\n",
              "      <td>0.0</td>\n",
              "    </tr>\n",
              "    <tr>\n",
              "      <th>fuel</th>\n",
              "      <td>0</td>\n",
              "      <td>0.0</td>\n",
              "    </tr>\n",
              "    <tr>\n",
              "      <th>odometer</th>\n",
              "      <td>0</td>\n",
              "      <td>0.0</td>\n",
              "    </tr>\n",
              "    <tr>\n",
              "      <th>title_status</th>\n",
              "      <td>0</td>\n",
              "      <td>0.0</td>\n",
              "    </tr>\n",
              "    <tr>\n",
              "      <th>transmission</th>\n",
              "      <td>0</td>\n",
              "      <td>0.0</td>\n",
              "    </tr>\n",
              "    <tr>\n",
              "      <th>drive</th>\n",
              "      <td>0</td>\n",
              "      <td>0.0</td>\n",
              "    </tr>\n",
              "    <tr>\n",
              "      <th>size</th>\n",
              "      <td>0</td>\n",
              "      <td>0.0</td>\n",
              "    </tr>\n",
              "    <tr>\n",
              "      <th>type</th>\n",
              "      <td>0</td>\n",
              "      <td>0.0</td>\n",
              "    </tr>\n",
              "    <tr>\n",
              "      <th>paint_color</th>\n",
              "      <td>0</td>\n",
              "      <td>0.0</td>\n",
              "    </tr>\n",
              "  </tbody>\n",
              "</table>\n",
              "</div>"
            ],
            "text/plain": [
              "              null  percent\n",
              "price            0      0.0\n",
              "year             0      0.0\n",
              "manufacturer     0      0.0\n",
              "make             0      0.0\n",
              "condition        0      0.0\n",
              "cylinders        0      0.0\n",
              "fuel             0      0.0\n",
              "odometer         0      0.0\n",
              "title_status     0      0.0\n",
              "transmission     0      0.0\n",
              "drive            0      0.0\n",
              "size             0      0.0\n",
              "type             0      0.0\n",
              "paint_color      0      0.0"
            ]
          },
          "metadata": {
            "tags": []
          },
          "execution_count": 48
        }
      ]
    },
    {
      "cell_type": "code",
      "metadata": {
        "id": "mv1SdENIDhyX",
        "colab_type": "code",
        "outputId": "8fba9a6c-b22f-4553-a165-6e4d9488ab4f",
        "colab": {
          "base_uri": "https://localhost:8080/",
          "height": 373
        }
      },
      "source": [
        "df.info()"
      ],
      "execution_count": 0,
      "outputs": [
        {
          "output_type": "stream",
          "text": [
            "<class 'pandas.core.frame.DataFrame'>\n",
            "Int64Index: 375332 entries, 0 to 550312\n",
            "Data columns (total 14 columns):\n",
            "price           375332 non-null int64\n",
            "year            375332 non-null float64\n",
            "manufacturer    375332 non-null object\n",
            "make            375332 non-null object\n",
            "condition       375332 non-null object\n",
            "cylinders       375332 non-null object\n",
            "fuel            375332 non-null object\n",
            "odometer        375332 non-null float64\n",
            "title_status    375332 non-null object\n",
            "transmission    375332 non-null object\n",
            "drive           375332 non-null object\n",
            "size            375332 non-null object\n",
            "type            375332 non-null object\n",
            "paint_color     375332 non-null object\n",
            "dtypes: float64(2), int64(1), object(11)\n",
            "memory usage: 43.0+ MB\n"
          ],
          "name": "stdout"
        }
      ]
    },
    {
      "cell_type": "code",
      "metadata": {
        "id": "rBeLFJhj3K2Q",
        "colab_type": "code",
        "outputId": "6cd30148-fc05-4c39-eca4-683f7833c4da",
        "colab": {
          "base_uri": "https://localhost:8080/",
          "height": 36
        }
      },
      "source": [
        "df.shape"
      ],
      "execution_count": 0,
      "outputs": [
        {
          "output_type": "execute_result",
          "data": {
            "text/plain": [
              "(375332, 14)"
            ]
          },
          "metadata": {
            "tags": []
          },
          "execution_count": 50
        }
      ]
    },
    {
      "cell_type": "markdown",
      "metadata": {
        "id": "izViYbCV4Vza",
        "colab_type": "text"
      },
      "source": [
        "By looking at above 'type' and 'drive' values, we can see that there is no heavily dominant sub category. Therefore, after this point, all rows that has a missing value will be deleted."
      ]
    },
    {
      "cell_type": "markdown",
      "metadata": {
        "id": "_V39Y7Pr5Aws",
        "colab_type": "text"
      },
      "source": [
        "# Exploring the data"
      ]
    },
    {
      "cell_type": "code",
      "metadata": {
        "id": "w_Fx6qei5F50",
        "colab_type": "code",
        "outputId": "0a956da8-8ba5-48fd-ea0b-1f20d58bb9c8",
        "colab": {
          "base_uri": "https://localhost:8080/",
          "height": 1000
        }
      },
      "source": [
        "df.sample(40)"
      ],
      "execution_count": 0,
      "outputs": [
        {
          "output_type": "execute_result",
          "data": {
            "text/html": [
              "<div>\n",
              "<style scoped>\n",
              "    .dataframe tbody tr th:only-of-type {\n",
              "        vertical-align: middle;\n",
              "    }\n",
              "\n",
              "    .dataframe tbody tr th {\n",
              "        vertical-align: top;\n",
              "    }\n",
              "\n",
              "    .dataframe thead th {\n",
              "        text-align: right;\n",
              "    }\n",
              "</style>\n",
              "<table border=\"1\" class=\"dataframe\">\n",
              "  <thead>\n",
              "    <tr style=\"text-align: right;\">\n",
              "      <th></th>\n",
              "      <th>price</th>\n",
              "      <th>year</th>\n",
              "      <th>manufacturer</th>\n",
              "      <th>make</th>\n",
              "      <th>condition</th>\n",
              "      <th>cylinders</th>\n",
              "      <th>fuel</th>\n",
              "      <th>odometer</th>\n",
              "      <th>title_status</th>\n",
              "      <th>transmission</th>\n",
              "      <th>drive</th>\n",
              "      <th>size</th>\n",
              "      <th>type</th>\n",
              "      <th>paint_color</th>\n",
              "    </tr>\n",
              "  </thead>\n",
              "  <tbody>\n",
              "    <tr>\n",
              "      <th>243303</th>\n",
              "      <td>7897</td>\n",
              "      <td>2012.0</td>\n",
              "      <td>honda</td>\n",
              "      <td>accord</td>\n",
              "      <td>excellent</td>\n",
              "      <td>4 cylinders</td>\n",
              "      <td>gas</td>\n",
              "      <td>167000.0</td>\n",
              "      <td>clean</td>\n",
              "      <td>automatic</td>\n",
              "      <td>fwd</td>\n",
              "      <td>mid-size</td>\n",
              "      <td>sedan</td>\n",
              "      <td>white</td>\n",
              "    </tr>\n",
              "    <tr>\n",
              "      <th>464061</th>\n",
              "      <td>6699</td>\n",
              "      <td>2010.0</td>\n",
              "      <td>bmw</td>\n",
              "      <td>528i</td>\n",
              "      <td>excellent</td>\n",
              "      <td>6 cylinders</td>\n",
              "      <td>gas</td>\n",
              "      <td>116000.0</td>\n",
              "      <td>clean</td>\n",
              "      <td>automatic</td>\n",
              "      <td>4wd</td>\n",
              "      <td>full-size</td>\n",
              "      <td>sedan</td>\n",
              "      <td>blue</td>\n",
              "    </tr>\n",
              "    <tr>\n",
              "      <th>203706</th>\n",
              "      <td>2950</td>\n",
              "      <td>2010.0</td>\n",
              "      <td>chrysler</td>\n",
              "      <td>sebring touring</td>\n",
              "      <td>excellent</td>\n",
              "      <td>4 cylinders</td>\n",
              "      <td>gas</td>\n",
              "      <td>202000.0</td>\n",
              "      <td>clean</td>\n",
              "      <td>automatic</td>\n",
              "      <td>fwd</td>\n",
              "      <td>mid-size</td>\n",
              "      <td>sedan</td>\n",
              "      <td>black</td>\n",
              "    </tr>\n",
              "    <tr>\n",
              "      <th>11384</th>\n",
              "      <td>5595</td>\n",
              "      <td>2008.0</td>\n",
              "      <td>chrysler</td>\n",
              "      <td>town &amp; country</td>\n",
              "      <td>good</td>\n",
              "      <td>6 cylinders</td>\n",
              "      <td>gas</td>\n",
              "      <td>136498.0</td>\n",
              "      <td>clean</td>\n",
              "      <td>automatic</td>\n",
              "      <td>fwd</td>\n",
              "      <td>full-size</td>\n",
              "      <td>van</td>\n",
              "      <td>blue</td>\n",
              "    </tr>\n",
              "    <tr>\n",
              "      <th>246093</th>\n",
              "      <td>1800</td>\n",
              "      <td>2002.0</td>\n",
              "      <td>ford</td>\n",
              "      <td>taurus</td>\n",
              "      <td>excellent</td>\n",
              "      <td>6 cylinders</td>\n",
              "      <td>gas</td>\n",
              "      <td>76700.0</td>\n",
              "      <td>clean</td>\n",
              "      <td>automatic</td>\n",
              "      <td>fwd</td>\n",
              "      <td>mid-size</td>\n",
              "      <td>SUV</td>\n",
              "      <td>red</td>\n",
              "    </tr>\n",
              "    <tr>\n",
              "      <th>500457</th>\n",
              "      <td>4500</td>\n",
              "      <td>2007.0</td>\n",
              "      <td>mazda</td>\n",
              "      <td>miata</td>\n",
              "      <td>good</td>\n",
              "      <td>4 cylinders</td>\n",
              "      <td>gas</td>\n",
              "      <td>102500.0</td>\n",
              "      <td>salvage</td>\n",
              "      <td>manual</td>\n",
              "      <td>rwd</td>\n",
              "      <td>compact</td>\n",
              "      <td>hatchback</td>\n",
              "      <td>red</td>\n",
              "    </tr>\n",
              "    <tr>\n",
              "      <th>36085</th>\n",
              "      <td>29995</td>\n",
              "      <td>2017.0</td>\n",
              "      <td>chevrolet</td>\n",
              "      <td>silverado lt crew cab</td>\n",
              "      <td>excellent</td>\n",
              "      <td>8 cylinders</td>\n",
              "      <td>gas</td>\n",
              "      <td>81406.0</td>\n",
              "      <td>clean</td>\n",
              "      <td>automatic</td>\n",
              "      <td>4wd</td>\n",
              "      <td>full-size</td>\n",
              "      <td>pickup</td>\n",
              "      <td>white</td>\n",
              "    </tr>\n",
              "    <tr>\n",
              "      <th>345164</th>\n",
              "      <td>27991</td>\n",
              "      <td>2007.0</td>\n",
              "      <td>ford</td>\n",
              "      <td>mustang</td>\n",
              "      <td>like new</td>\n",
              "      <td>8 cylinders</td>\n",
              "      <td>gas</td>\n",
              "      <td>32288.0</td>\n",
              "      <td>clean</td>\n",
              "      <td>manual</td>\n",
              "      <td>rwd</td>\n",
              "      <td>compact</td>\n",
              "      <td>convertible</td>\n",
              "      <td>black</td>\n",
              "    </tr>\n",
              "    <tr>\n",
              "      <th>276670</th>\n",
              "      <td>5275</td>\n",
              "      <td>2010.0</td>\n",
              "      <td>kia</td>\n",
              "      <td>forte koup</td>\n",
              "      <td>excellent</td>\n",
              "      <td>4 cylinders</td>\n",
              "      <td>gas</td>\n",
              "      <td>114587.0</td>\n",
              "      <td>clean</td>\n",
              "      <td>manual</td>\n",
              "      <td>fwd</td>\n",
              "      <td>mid-size</td>\n",
              "      <td>coupe</td>\n",
              "      <td>silver</td>\n",
              "    </tr>\n",
              "    <tr>\n",
              "      <th>328190</th>\n",
              "      <td>13995</td>\n",
              "      <td>2017.0</td>\n",
              "      <td>toyota</td>\n",
              "      <td>corolla le</td>\n",
              "      <td>good</td>\n",
              "      <td>4 cylinders</td>\n",
              "      <td>gas</td>\n",
              "      <td>96586.0</td>\n",
              "      <td>clean</td>\n",
              "      <td>automatic</td>\n",
              "      <td>fwd</td>\n",
              "      <td>full-size</td>\n",
              "      <td>sedan</td>\n",
              "      <td>white</td>\n",
              "    </tr>\n",
              "    <tr>\n",
              "      <th>108989</th>\n",
              "      <td>18900</td>\n",
              "      <td>2015.0</td>\n",
              "      <td>ford</td>\n",
              "      <td>f150</td>\n",
              "      <td>excellent</td>\n",
              "      <td>6 cylinders</td>\n",
              "      <td>gas</td>\n",
              "      <td>62500.0</td>\n",
              "      <td>rebuilt</td>\n",
              "      <td>automatic</td>\n",
              "      <td>rwd</td>\n",
              "      <td>mid-size</td>\n",
              "      <td>pickup</td>\n",
              "      <td>silver</td>\n",
              "    </tr>\n",
              "    <tr>\n",
              "      <th>398128</th>\n",
              "      <td>3988</td>\n",
              "      <td>2006.0</td>\n",
              "      <td>chrysler</td>\n",
              "      <td>town country</td>\n",
              "      <td>good</td>\n",
              "      <td>6 cylinders</td>\n",
              "      <td>gas</td>\n",
              "      <td>110751.0</td>\n",
              "      <td>clean</td>\n",
              "      <td>automatic</td>\n",
              "      <td>fwd</td>\n",
              "      <td>compact</td>\n",
              "      <td>van</td>\n",
              "      <td>silver</td>\n",
              "    </tr>\n",
              "    <tr>\n",
              "      <th>85359</th>\n",
              "      <td>10990</td>\n",
              "      <td>2007.0</td>\n",
              "      <td>lincoln</td>\n",
              "      <td>navigator luxury 4x4</td>\n",
              "      <td>good</td>\n",
              "      <td>8 cylinders</td>\n",
              "      <td>gas</td>\n",
              "      <td>162229.0</td>\n",
              "      <td>clean</td>\n",
              "      <td>automatic</td>\n",
              "      <td>4wd</td>\n",
              "      <td>full-size</td>\n",
              "      <td>SUV</td>\n",
              "      <td>brown</td>\n",
              "    </tr>\n",
              "    <tr>\n",
              "      <th>86219</th>\n",
              "      <td>45498</td>\n",
              "      <td>2015.0</td>\n",
              "      <td>chevrolet</td>\n",
              "      <td>corvette stingray</td>\n",
              "      <td>like new</td>\n",
              "      <td>8 cylinders</td>\n",
              "      <td>gas</td>\n",
              "      <td>18760.0</td>\n",
              "      <td>clean</td>\n",
              "      <td>manual</td>\n",
              "      <td>rwd</td>\n",
              "      <td>full-size</td>\n",
              "      <td>pickup</td>\n",
              "      <td>white</td>\n",
              "    </tr>\n",
              "    <tr>\n",
              "      <th>381494</th>\n",
              "      <td>18400</td>\n",
              "      <td>2012.0</td>\n",
              "      <td>chevrolet</td>\n",
              "      <td>silverado</td>\n",
              "      <td>like new</td>\n",
              "      <td>8 cylinders</td>\n",
              "      <td>gas</td>\n",
              "      <td>15291.0</td>\n",
              "      <td>clean</td>\n",
              "      <td>automatic</td>\n",
              "      <td>rwd</td>\n",
              "      <td>full-size</td>\n",
              "      <td>truck</td>\n",
              "      <td>white</td>\n",
              "    </tr>\n",
              "    <tr>\n",
              "      <th>159490</th>\n",
              "      <td>13995</td>\n",
              "      <td>2003.0</td>\n",
              "      <td>chevrolet</td>\n",
              "      <td>silverado 2500hd</td>\n",
              "      <td>excellent</td>\n",
              "      <td>4 cylinders</td>\n",
              "      <td>diesel</td>\n",
              "      <td>205810.0</td>\n",
              "      <td>clean</td>\n",
              "      <td>automatic</td>\n",
              "      <td>4wd</td>\n",
              "      <td>mid-size</td>\n",
              "      <td>pickup</td>\n",
              "      <td>blue</td>\n",
              "    </tr>\n",
              "    <tr>\n",
              "      <th>351277</th>\n",
              "      <td>9200</td>\n",
              "      <td>2012.0</td>\n",
              "      <td>volvo</td>\n",
              "      <td>s60</td>\n",
              "      <td>excellent</td>\n",
              "      <td>5 cylinders</td>\n",
              "      <td>gas</td>\n",
              "      <td>82282.0</td>\n",
              "      <td>clean</td>\n",
              "      <td>automatic</td>\n",
              "      <td>fwd</td>\n",
              "      <td>full-size</td>\n",
              "      <td>sedan</td>\n",
              "      <td>silver</td>\n",
              "    </tr>\n",
              "    <tr>\n",
              "      <th>197291</th>\n",
              "      <td>11000</td>\n",
              "      <td>2010.0</td>\n",
              "      <td>dodge</td>\n",
              "      <td>charger r/t</td>\n",
              "      <td>excellent</td>\n",
              "      <td>8 cylinders</td>\n",
              "      <td>gas</td>\n",
              "      <td>106000.0</td>\n",
              "      <td>clean</td>\n",
              "      <td>automatic</td>\n",
              "      <td>fwd</td>\n",
              "      <td>full-size</td>\n",
              "      <td>other</td>\n",
              "      <td>black</td>\n",
              "    </tr>\n",
              "    <tr>\n",
              "      <th>389447</th>\n",
              "      <td>7995</td>\n",
              "      <td>2004.0</td>\n",
              "      <td>jeep</td>\n",
              "      <td>wrangler</td>\n",
              "      <td>excellent</td>\n",
              "      <td>6 cylinders</td>\n",
              "      <td>gas</td>\n",
              "      <td>141752.0</td>\n",
              "      <td>clean</td>\n",
              "      <td>manual</td>\n",
              "      <td>4wd</td>\n",
              "      <td>compact</td>\n",
              "      <td>SUV</td>\n",
              "      <td>black</td>\n",
              "    </tr>\n",
              "    <tr>\n",
              "      <th>355224</th>\n",
              "      <td>8900</td>\n",
              "      <td>2009.0</td>\n",
              "      <td>bmw</td>\n",
              "      <td>x5</td>\n",
              "      <td>like new</td>\n",
              "      <td>8 cylinders</td>\n",
              "      <td>gas</td>\n",
              "      <td>119000.0</td>\n",
              "      <td>clean</td>\n",
              "      <td>automatic</td>\n",
              "      <td>4wd</td>\n",
              "      <td>full-size</td>\n",
              "      <td>SUV</td>\n",
              "      <td>green</td>\n",
              "    </tr>\n",
              "    <tr>\n",
              "      <th>543275</th>\n",
              "      <td>28900</td>\n",
              "      <td>2014.0</td>\n",
              "      <td>ram</td>\n",
              "      <td>3500</td>\n",
              "      <td>salvage</td>\n",
              "      <td>4 cylinders</td>\n",
              "      <td>diesel</td>\n",
              "      <td>122726.0</td>\n",
              "      <td>clean</td>\n",
              "      <td>automatic</td>\n",
              "      <td>4wd</td>\n",
              "      <td>mid-size</td>\n",
              "      <td>pickup</td>\n",
              "      <td>white</td>\n",
              "    </tr>\n",
              "    <tr>\n",
              "      <th>489938</th>\n",
              "      <td>2900</td>\n",
              "      <td>2005.0</td>\n",
              "      <td>toyota</td>\n",
              "      <td>matrix</td>\n",
              "      <td>fair</td>\n",
              "      <td>6 cylinders</td>\n",
              "      <td>gas</td>\n",
              "      <td>256000.0</td>\n",
              "      <td>clean</td>\n",
              "      <td>automatic</td>\n",
              "      <td>rwd</td>\n",
              "      <td>mid-size</td>\n",
              "      <td>sedan</td>\n",
              "      <td>grey</td>\n",
              "    </tr>\n",
              "    <tr>\n",
              "      <th>23967</th>\n",
              "      <td>26975</td>\n",
              "      <td>2015.0</td>\n",
              "      <td>toyota</td>\n",
              "      <td>sienna</td>\n",
              "      <td>like new</td>\n",
              "      <td>6 cylinders</td>\n",
              "      <td>gas</td>\n",
              "      <td>40932.0</td>\n",
              "      <td>clean</td>\n",
              "      <td>automatic</td>\n",
              "      <td>fwd</td>\n",
              "      <td>compact</td>\n",
              "      <td>sedan</td>\n",
              "      <td>grey</td>\n",
              "    </tr>\n",
              "    <tr>\n",
              "      <th>136803</th>\n",
              "      <td>29402</td>\n",
              "      <td>2017.0</td>\n",
              "      <td>ford</td>\n",
              "      <td>f-150</td>\n",
              "      <td>like new</td>\n",
              "      <td>6 cylinders</td>\n",
              "      <td>gas</td>\n",
              "      <td>48513.0</td>\n",
              "      <td>clean</td>\n",
              "      <td>automatic</td>\n",
              "      <td>4wd</td>\n",
              "      <td>full-size</td>\n",
              "      <td>pickup</td>\n",
              "      <td>black</td>\n",
              "    </tr>\n",
              "    <tr>\n",
              "      <th>148839</th>\n",
              "      <td>9000</td>\n",
              "      <td>2017.0</td>\n",
              "      <td>chevrolet</td>\n",
              "      <td>malibu</td>\n",
              "      <td>like new</td>\n",
              "      <td>4 cylinders</td>\n",
              "      <td>gas</td>\n",
              "      <td>32000.0</td>\n",
              "      <td>rebuilt</td>\n",
              "      <td>automatic</td>\n",
              "      <td>fwd</td>\n",
              "      <td>full-size</td>\n",
              "      <td>sedan</td>\n",
              "      <td>blue</td>\n",
              "    </tr>\n",
              "    <tr>\n",
              "      <th>37563</th>\n",
              "      <td>18950</td>\n",
              "      <td>2013.0</td>\n",
              "      <td>toyota</td>\n",
              "      <td>highlander limited 4wd</td>\n",
              "      <td>excellent</td>\n",
              "      <td>8 cylinders</td>\n",
              "      <td>gas</td>\n",
              "      <td>92149.0</td>\n",
              "      <td>clean</td>\n",
              "      <td>automatic</td>\n",
              "      <td>rwd</td>\n",
              "      <td>full-size</td>\n",
              "      <td>truck</td>\n",
              "      <td>white</td>\n",
              "    </tr>\n",
              "    <tr>\n",
              "      <th>113125</th>\n",
              "      <td>2000</td>\n",
              "      <td>2002.0</td>\n",
              "      <td>bmw</td>\n",
              "      <td>525i</td>\n",
              "      <td>good</td>\n",
              "      <td>6 cylinders</td>\n",
              "      <td>gas</td>\n",
              "      <td>195000.0</td>\n",
              "      <td>clean</td>\n",
              "      <td>automatic</td>\n",
              "      <td>rwd</td>\n",
              "      <td>full-size</td>\n",
              "      <td>sedan</td>\n",
              "      <td>black</td>\n",
              "    </tr>\n",
              "    <tr>\n",
              "      <th>123768</th>\n",
              "      <td>1000</td>\n",
              "      <td>1989.0</td>\n",
              "      <td>jeep</td>\n",
              "      <td>wrangler</td>\n",
              "      <td>fair</td>\n",
              "      <td>6 cylinders</td>\n",
              "      <td>gas</td>\n",
              "      <td>135000.0</td>\n",
              "      <td>rebuilt</td>\n",
              "      <td>automatic</td>\n",
              "      <td>4wd</td>\n",
              "      <td>compact</td>\n",
              "      <td>SUV</td>\n",
              "      <td>blue</td>\n",
              "    </tr>\n",
              "    <tr>\n",
              "      <th>315342</th>\n",
              "      <td>750</td>\n",
              "      <td>2003.0</td>\n",
              "      <td>cadillac</td>\n",
              "      <td>seville sts</td>\n",
              "      <td>fair</td>\n",
              "      <td>6 cylinders</td>\n",
              "      <td>gas</td>\n",
              "      <td>193085.0</td>\n",
              "      <td>clean</td>\n",
              "      <td>automatic</td>\n",
              "      <td>rwd</td>\n",
              "      <td>full-size</td>\n",
              "      <td>sedan</td>\n",
              "      <td>black</td>\n",
              "    </tr>\n",
              "    <tr>\n",
              "      <th>369593</th>\n",
              "      <td>2300</td>\n",
              "      <td>2007.0</td>\n",
              "      <td>ford</td>\n",
              "      <td>rabbit s</td>\n",
              "      <td>fair</td>\n",
              "      <td>5 cylinders</td>\n",
              "      <td>gas</td>\n",
              "      <td>162000.0</td>\n",
              "      <td>salvage</td>\n",
              "      <td>automatic</td>\n",
              "      <td>fwd</td>\n",
              "      <td>compact</td>\n",
              "      <td>hatchback</td>\n",
              "      <td>black</td>\n",
              "    </tr>\n",
              "    <tr>\n",
              "      <th>437473</th>\n",
              "      <td>3500</td>\n",
              "      <td>2005.0</td>\n",
              "      <td>chevrolet</td>\n",
              "      <td>trailblazer ls</td>\n",
              "      <td>excellent</td>\n",
              "      <td>6 cylinders</td>\n",
              "      <td>gas</td>\n",
              "      <td>163263.0</td>\n",
              "      <td>clean</td>\n",
              "      <td>automatic</td>\n",
              "      <td>fwd</td>\n",
              "      <td>compact</td>\n",
              "      <td>sedan</td>\n",
              "      <td>red</td>\n",
              "    </tr>\n",
              "    <tr>\n",
              "      <th>193416</th>\n",
              "      <td>32990</td>\n",
              "      <td>2016.0</td>\n",
              "      <td>ram</td>\n",
              "      <td>3500</td>\n",
              "      <td>good</td>\n",
              "      <td>4 cylinders</td>\n",
              "      <td>gas</td>\n",
              "      <td>30921.0</td>\n",
              "      <td>clean</td>\n",
              "      <td>automatic</td>\n",
              "      <td>4wd</td>\n",
              "      <td>mid-size</td>\n",
              "      <td>pickup</td>\n",
              "      <td>blue</td>\n",
              "    </tr>\n",
              "    <tr>\n",
              "      <th>295244</th>\n",
              "      <td>6300</td>\n",
              "      <td>2009.0</td>\n",
              "      <td>volvo</td>\n",
              "      <td>s60 2.5t</td>\n",
              "      <td>excellent</td>\n",
              "      <td>6 cylinders</td>\n",
              "      <td>gas</td>\n",
              "      <td>98500.0</td>\n",
              "      <td>clean</td>\n",
              "      <td>automatic</td>\n",
              "      <td>fwd</td>\n",
              "      <td>full-size</td>\n",
              "      <td>van</td>\n",
              "      <td>black</td>\n",
              "    </tr>\n",
              "    <tr>\n",
              "      <th>304102</th>\n",
              "      <td>15500</td>\n",
              "      <td>2014.0</td>\n",
              "      <td>ram</td>\n",
              "      <td>1500</td>\n",
              "      <td>like new</td>\n",
              "      <td>8 cylinders</td>\n",
              "      <td>gas</td>\n",
              "      <td>70000.0</td>\n",
              "      <td>clean</td>\n",
              "      <td>automatic</td>\n",
              "      <td>4wd</td>\n",
              "      <td>compact</td>\n",
              "      <td>truck</td>\n",
              "      <td>black</td>\n",
              "    </tr>\n",
              "    <tr>\n",
              "      <th>213335</th>\n",
              "      <td>4900</td>\n",
              "      <td>2008.0</td>\n",
              "      <td>volvo</td>\n",
              "      <td>s40 2.4i</td>\n",
              "      <td>excellent</td>\n",
              "      <td>5 cylinders</td>\n",
              "      <td>gas</td>\n",
              "      <td>135000.0</td>\n",
              "      <td>clean</td>\n",
              "      <td>automatic</td>\n",
              "      <td>fwd</td>\n",
              "      <td>mid-size</td>\n",
              "      <td>sedan</td>\n",
              "      <td>white</td>\n",
              "    </tr>\n",
              "    <tr>\n",
              "      <th>361855</th>\n",
              "      <td>2995</td>\n",
              "      <td>2004.0</td>\n",
              "      <td>jeep</td>\n",
              "      <td>grand cherokee</td>\n",
              "      <td>excellent</td>\n",
              "      <td>8 cylinders</td>\n",
              "      <td>gas</td>\n",
              "      <td>261585.0</td>\n",
              "      <td>clean</td>\n",
              "      <td>automatic</td>\n",
              "      <td>4wd</td>\n",
              "      <td>mid-size</td>\n",
              "      <td>SUV</td>\n",
              "      <td>grey</td>\n",
              "    </tr>\n",
              "    <tr>\n",
              "      <th>145692</th>\n",
              "      <td>24777</td>\n",
              "      <td>2017.0</td>\n",
              "      <td>ford</td>\n",
              "      <td>f-150</td>\n",
              "      <td>like new</td>\n",
              "      <td>6 cylinders</td>\n",
              "      <td>gas</td>\n",
              "      <td>44341.0</td>\n",
              "      <td>clean</td>\n",
              "      <td>automatic</td>\n",
              "      <td>rwd</td>\n",
              "      <td>sub-compact</td>\n",
              "      <td>truck</td>\n",
              "      <td>silver</td>\n",
              "    </tr>\n",
              "    <tr>\n",
              "      <th>426655</th>\n",
              "      <td>9486</td>\n",
              "      <td>2011.0</td>\n",
              "      <td>chevrolet</td>\n",
              "      <td>traverse</td>\n",
              "      <td>good</td>\n",
              "      <td>8 cylinders</td>\n",
              "      <td>other</td>\n",
              "      <td>109213.0</td>\n",
              "      <td>clean</td>\n",
              "      <td>automatic</td>\n",
              "      <td>4wd</td>\n",
              "      <td>mid-size</td>\n",
              "      <td>sedan</td>\n",
              "      <td>grey</td>\n",
              "    </tr>\n",
              "    <tr>\n",
              "      <th>150158</th>\n",
              "      <td>23991</td>\n",
              "      <td>2017.0</td>\n",
              "      <td>toyota</td>\n",
              "      <td>prius</td>\n",
              "      <td>like new</td>\n",
              "      <td>6 cylinders</td>\n",
              "      <td>hybrid</td>\n",
              "      <td>25655.0</td>\n",
              "      <td>clean</td>\n",
              "      <td>automatic</td>\n",
              "      <td>fwd</td>\n",
              "      <td>full-size</td>\n",
              "      <td>hatchback</td>\n",
              "      <td>white</td>\n",
              "    </tr>\n",
              "    <tr>\n",
              "      <th>163201</th>\n",
              "      <td>32999</td>\n",
              "      <td>2015.0</td>\n",
              "      <td>ford</td>\n",
              "      <td>f-150</td>\n",
              "      <td>excellent</td>\n",
              "      <td>8 cylinders</td>\n",
              "      <td>gas</td>\n",
              "      <td>71010.0</td>\n",
              "      <td>clean</td>\n",
              "      <td>automatic</td>\n",
              "      <td>4wd</td>\n",
              "      <td>full-size</td>\n",
              "      <td>truck</td>\n",
              "      <td>white</td>\n",
              "    </tr>\n",
              "  </tbody>\n",
              "</table>\n",
              "</div>"
            ],
            "text/plain": [
              "        price    year manufacturer  ...         size         type paint_color\n",
              "243303   7897  2012.0        honda  ...     mid-size        sedan       white\n",
              "464061   6699  2010.0          bmw  ...    full-size        sedan        blue\n",
              "203706   2950  2010.0     chrysler  ...     mid-size        sedan       black\n",
              "11384    5595  2008.0     chrysler  ...    full-size          van        blue\n",
              "246093   1800  2002.0         ford  ...     mid-size          SUV         red\n",
              "500457   4500  2007.0        mazda  ...      compact    hatchback         red\n",
              "36085   29995  2017.0    chevrolet  ...    full-size       pickup       white\n",
              "345164  27991  2007.0         ford  ...      compact  convertible       black\n",
              "276670   5275  2010.0          kia  ...     mid-size        coupe      silver\n",
              "328190  13995  2017.0       toyota  ...    full-size        sedan       white\n",
              "108989  18900  2015.0         ford  ...     mid-size       pickup      silver\n",
              "398128   3988  2006.0     chrysler  ...      compact          van      silver\n",
              "85359   10990  2007.0      lincoln  ...    full-size          SUV       brown\n",
              "86219   45498  2015.0    chevrolet  ...    full-size       pickup       white\n",
              "381494  18400  2012.0    chevrolet  ...    full-size        truck       white\n",
              "159490  13995  2003.0    chevrolet  ...     mid-size       pickup        blue\n",
              "351277   9200  2012.0        volvo  ...    full-size        sedan      silver\n",
              "197291  11000  2010.0        dodge  ...    full-size        other       black\n",
              "389447   7995  2004.0         jeep  ...      compact          SUV       black\n",
              "355224   8900  2009.0          bmw  ...    full-size          SUV       green\n",
              "543275  28900  2014.0          ram  ...     mid-size       pickup       white\n",
              "489938   2900  2005.0       toyota  ...     mid-size        sedan        grey\n",
              "23967   26975  2015.0       toyota  ...      compact        sedan        grey\n",
              "136803  29402  2017.0         ford  ...    full-size       pickup       black\n",
              "148839   9000  2017.0    chevrolet  ...    full-size        sedan        blue\n",
              "37563   18950  2013.0       toyota  ...    full-size        truck       white\n",
              "113125   2000  2002.0          bmw  ...    full-size        sedan       black\n",
              "123768   1000  1989.0         jeep  ...      compact          SUV        blue\n",
              "315342    750  2003.0     cadillac  ...    full-size        sedan       black\n",
              "369593   2300  2007.0         ford  ...      compact    hatchback       black\n",
              "437473   3500  2005.0    chevrolet  ...      compact        sedan         red\n",
              "193416  32990  2016.0          ram  ...     mid-size       pickup        blue\n",
              "295244   6300  2009.0        volvo  ...    full-size          van       black\n",
              "304102  15500  2014.0          ram  ...      compact        truck       black\n",
              "213335   4900  2008.0        volvo  ...     mid-size        sedan       white\n",
              "361855   2995  2004.0         jeep  ...     mid-size          SUV        grey\n",
              "145692  24777  2017.0         ford  ...  sub-compact        truck      silver\n",
              "426655   9486  2011.0    chevrolet  ...     mid-size        sedan        grey\n",
              "150158  23991  2017.0       toyota  ...    full-size    hatchback       white\n",
              "163201  32999  2015.0         ford  ...    full-size        truck       white\n",
              "\n",
              "[40 rows x 14 columns]"
            ]
          },
          "metadata": {
            "tags": []
          },
          "execution_count": 127
        }
      ]
    },
    {
      "cell_type": "code",
      "metadata": {
        "id": "1jtXbk30M4gs",
        "colab_type": "code",
        "colab": {}
      },
      "source": [
        "import seaborn as sns\n",
        "import matplotlib.pyplot as plt\n",
        "from scipy import stats"
      ],
      "execution_count": 0,
      "outputs": []
    },
    {
      "cell_type": "code",
      "metadata": {
        "id": "n5d_09bLM6bX",
        "colab_type": "code",
        "outputId": "76626bef-7abf-47bf-ae63-2f09b6fc1577",
        "colab": {
          "base_uri": "https://localhost:8080/",
          "height": 770
        }
      },
      "source": [
        "sns.pairplot(df)"
      ],
      "execution_count": 0,
      "outputs": [
        {
          "output_type": "execute_result",
          "data": {
            "text/plain": [
              "<seaborn.axisgrid.PairGrid at 0x7f354d4425f8>"
            ]
          },
          "metadata": {
            "tags": []
          },
          "execution_count": 54
        },
        {
          "output_type": "display_data",
          "data": {
            "image/png": "[encoded data removed]",
            "text/plain": [
              "<Figure size 750x750 with 12 Axes>"
            ]
          },
          "metadata": {
            "tags": []
          }
        }
      ]
    },
    {
      "cell_type": "code",
      "metadata": {
        "id": "sTFchqROCuhD",
        "colab_type": "code",
        "outputId": "ade35558-a4ca-4aeb-fd45-7e6cb5e773c9",
        "colab": {
          "base_uri": "https://localhost:8080/",
          "height": 237
        }
      },
      "source": [
        "df.set_index(['price', 'year']).sample(5)"
      ],
      "execution_count": 0,
      "outputs": [
        {
          "output_type": "execute_result",
          "data": {
            "text/html": [
              "<div>\n",
              "<style scoped>\n",
              "    .dataframe tbody tr th:only-of-type {\n",
              "        vertical-align: middle;\n",
              "    }\n",
              "\n",
              "    .dataframe tbody tr th {\n",
              "        vertical-align: top;\n",
              "    }\n",
              "\n",
              "    .dataframe thead th {\n",
              "        text-align: right;\n",
              "    }\n",
              "</style>\n",
              "<table border=\"1\" class=\"dataframe\">\n",
              "  <thead>\n",
              "    <tr style=\"text-align: right;\">\n",
              "      <th></th>\n",
              "      <th></th>\n",
              "      <th>manufacturer</th>\n",
              "      <th>make</th>\n",
              "      <th>condition</th>\n",
              "      <th>cylinders</th>\n",
              "      <th>fuel</th>\n",
              "      <th>odometer</th>\n",
              "      <th>title_status</th>\n",
              "      <th>transmission</th>\n",
              "      <th>drive</th>\n",
              "      <th>size</th>\n",
              "      <th>type</th>\n",
              "      <th>paint_color</th>\n",
              "    </tr>\n",
              "    <tr>\n",
              "      <th>price</th>\n",
              "      <th>year</th>\n",
              "      <th></th>\n",
              "      <th></th>\n",
              "      <th></th>\n",
              "      <th></th>\n",
              "      <th></th>\n",
              "      <th></th>\n",
              "      <th></th>\n",
              "      <th></th>\n",
              "      <th></th>\n",
              "      <th></th>\n",
              "      <th></th>\n",
              "      <th></th>\n",
              "    </tr>\n",
              "  </thead>\n",
              "  <tbody>\n",
              "    <tr>\n",
              "      <th>31824</th>\n",
              "      <th>2016.0</th>\n",
              "      <td>toyota</td>\n",
              "      <td>highlander limited</td>\n",
              "      <td>good</td>\n",
              "      <td>6 cylinders</td>\n",
              "      <td>other</td>\n",
              "      <td>28143.0</td>\n",
              "      <td>clean</td>\n",
              "      <td>automatic</td>\n",
              "      <td>fwd</td>\n",
              "      <td>compact</td>\n",
              "      <td>other</td>\n",
              "      <td>red</td>\n",
              "    </tr>\n",
              "    <tr>\n",
              "      <th>14995</th>\n",
              "      <th>2008.0</th>\n",
              "      <td>ford</td>\n",
              "      <td>f150 supercrew king ranch</td>\n",
              "      <td>excellent</td>\n",
              "      <td>8 cylinders</td>\n",
              "      <td>gas</td>\n",
              "      <td>130000.0</td>\n",
              "      <td>clean</td>\n",
              "      <td>automatic</td>\n",
              "      <td>4wd</td>\n",
              "      <td>full-size</td>\n",
              "      <td>truck</td>\n",
              "      <td>white</td>\n",
              "    </tr>\n",
              "    <tr>\n",
              "      <th>12500</th>\n",
              "      <th>2011.0</th>\n",
              "      <td>ford</td>\n",
              "      <td>f-350</td>\n",
              "      <td>salvage</td>\n",
              "      <td>8 cylinders</td>\n",
              "      <td>diesel</td>\n",
              "      <td>170073.0</td>\n",
              "      <td>clean</td>\n",
              "      <td>automatic</td>\n",
              "      <td>4wd</td>\n",
              "      <td>full-size</td>\n",
              "      <td>pickup</td>\n",
              "      <td>brown</td>\n",
              "    </tr>\n",
              "    <tr>\n",
              "      <th>3700</th>\n",
              "      <th>2008.0</th>\n",
              "      <td>pontiac</td>\n",
              "      <td>g6</td>\n",
              "      <td>excellent</td>\n",
              "      <td>4 cylinders</td>\n",
              "      <td>gas</td>\n",
              "      <td>123000.0</td>\n",
              "      <td>clean</td>\n",
              "      <td>automatic</td>\n",
              "      <td>fwd</td>\n",
              "      <td>mid-size</td>\n",
              "      <td>sedan</td>\n",
              "      <td>grey</td>\n",
              "    </tr>\n",
              "    <tr>\n",
              "      <th>11950</th>\n",
              "      <th>2012.0</th>\n",
              "      <td>chevrolet</td>\n",
              "      <td>silverado 1500 lt</td>\n",
              "      <td>salvage</td>\n",
              "      <td>8 cylinders</td>\n",
              "      <td>gas</td>\n",
              "      <td>134497.0</td>\n",
              "      <td>rebuilt</td>\n",
              "      <td>automatic</td>\n",
              "      <td>4wd</td>\n",
              "      <td>mid-size</td>\n",
              "      <td>truck</td>\n",
              "      <td>blue</td>\n",
              "    </tr>\n",
              "  </tbody>\n",
              "</table>\n",
              "</div>"
            ],
            "text/plain": [
              "             manufacturer                       make  ...    type paint_color\n",
              "price year                                            ...                    \n",
              "31824 2016.0       toyota         highlander limited  ...   other         red\n",
              "14995 2008.0         ford  f150 supercrew king ranch  ...   truck       white\n",
              "12500 2011.0         ford                      f-350  ...  pickup       brown\n",
              "3700  2008.0      pontiac                         g6  ...   sedan        grey\n",
              "11950 2012.0    chevrolet          silverado 1500 lt  ...   truck        blue\n",
              "\n",
              "[5 rows x 12 columns]"
            ]
          },
          "metadata": {
            "tags": []
          },
          "execution_count": 51
        }
      ]
    },
    {
      "cell_type": "code",
      "metadata": {
        "id": "DimvXJbPFThF",
        "colab_type": "code",
        "outputId": "75e31cb3-4930-445e-b118-e3aaa0946075",
        "colab": {
          "base_uri": "https://localhost:8080/",
          "height": 363
        }
      },
      "source": [
        "df.sort_values('year').sample(10)"
      ],
      "execution_count": 0,
      "outputs": [
        {
          "output_type": "execute_result",
          "data": {
            "text/html": [
              "<div>\n",
              "<style scoped>\n",
              "    .dataframe tbody tr th:only-of-type {\n",
              "        vertical-align: middle;\n",
              "    }\n",
              "\n",
              "    .dataframe tbody tr th {\n",
              "        vertical-align: top;\n",
              "    }\n",
              "\n",
              "    .dataframe thead th {\n",
              "        text-align: right;\n",
              "    }\n",
              "</style>\n",
              "<table border=\"1\" class=\"dataframe\">\n",
              "  <thead>\n",
              "    <tr style=\"text-align: right;\">\n",
              "      <th></th>\n",
              "      <th>price</th>\n",
              "      <th>year</th>\n",
              "      <th>manufacturer</th>\n",
              "      <th>make</th>\n",
              "      <th>condition</th>\n",
              "      <th>cylinders</th>\n",
              "      <th>fuel</th>\n",
              "      <th>odometer</th>\n",
              "      <th>title_status</th>\n",
              "      <th>transmission</th>\n",
              "      <th>drive</th>\n",
              "      <th>size</th>\n",
              "      <th>type</th>\n",
              "      <th>paint_color</th>\n",
              "    </tr>\n",
              "  </thead>\n",
              "  <tbody>\n",
              "    <tr>\n",
              "      <th>293459</th>\n",
              "      <td>24400</td>\n",
              "      <td>2015.0</td>\n",
              "      <td>chevrolet</td>\n",
              "      <td>camaro ss convertible</td>\n",
              "      <td>good</td>\n",
              "      <td>8 cylinders</td>\n",
              "      <td>gas</td>\n",
              "      <td>47611.0</td>\n",
              "      <td>clean</td>\n",
              "      <td>automatic</td>\n",
              "      <td>rwd</td>\n",
              "      <td>compact</td>\n",
              "      <td>other</td>\n",
              "      <td>white</td>\n",
              "    </tr>\n",
              "    <tr>\n",
              "      <th>135364</th>\n",
              "      <td>15995</td>\n",
              "      <td>2016.0</td>\n",
              "      <td>chevrolet</td>\n",
              "      <td>malibu</td>\n",
              "      <td>like new</td>\n",
              "      <td>8 cylinders</td>\n",
              "      <td>gas</td>\n",
              "      <td>20034.0</td>\n",
              "      <td>clean</td>\n",
              "      <td>automatic</td>\n",
              "      <td>4wd</td>\n",
              "      <td>compact</td>\n",
              "      <td>sedan</td>\n",
              "      <td>black</td>\n",
              "    </tr>\n",
              "    <tr>\n",
              "      <th>128088</th>\n",
              "      <td>5200</td>\n",
              "      <td>2006.0</td>\n",
              "      <td>toyota</td>\n",
              "      <td>tundra</td>\n",
              "      <td>fair</td>\n",
              "      <td>8 cylinders</td>\n",
              "      <td>gas</td>\n",
              "      <td>242000.0</td>\n",
              "      <td>clean</td>\n",
              "      <td>automatic</td>\n",
              "      <td>4wd</td>\n",
              "      <td>full-size</td>\n",
              "      <td>truck</td>\n",
              "      <td>silver</td>\n",
              "    </tr>\n",
              "    <tr>\n",
              "      <th>204654</th>\n",
              "      <td>6900</td>\n",
              "      <td>2008.0</td>\n",
              "      <td>jeep</td>\n",
              "      <td>liberty limited</td>\n",
              "      <td>good</td>\n",
              "      <td>6 cylinders</td>\n",
              "      <td>gas</td>\n",
              "      <td>161000.0</td>\n",
              "      <td>clean</td>\n",
              "      <td>automatic</td>\n",
              "      <td>4wd</td>\n",
              "      <td>compact</td>\n",
              "      <td>coupe</td>\n",
              "      <td>orange</td>\n",
              "    </tr>\n",
              "    <tr>\n",
              "      <th>413959</th>\n",
              "      <td>21000</td>\n",
              "      <td>2014.0</td>\n",
              "      <td>mercedes-benz</td>\n",
              "      <td>m-class</td>\n",
              "      <td>excellent</td>\n",
              "      <td>4 cylinders</td>\n",
              "      <td>gas</td>\n",
              "      <td>78329.0</td>\n",
              "      <td>clean</td>\n",
              "      <td>automatic</td>\n",
              "      <td>4wd</td>\n",
              "      <td>compact</td>\n",
              "      <td>SUV</td>\n",
              "      <td>white</td>\n",
              "    </tr>\n",
              "    <tr>\n",
              "      <th>258151</th>\n",
              "      <td>15350</td>\n",
              "      <td>2010.0</td>\n",
              "      <td>ford</td>\n",
              "      <td>mustang gt premium</td>\n",
              "      <td>like new</td>\n",
              "      <td>8 cylinders</td>\n",
              "      <td>gas</td>\n",
              "      <td>73000.0</td>\n",
              "      <td>clean</td>\n",
              "      <td>automatic</td>\n",
              "      <td>rwd</td>\n",
              "      <td>full-size</td>\n",
              "      <td>coupe</td>\n",
              "      <td>red</td>\n",
              "    </tr>\n",
              "    <tr>\n",
              "      <th>485941</th>\n",
              "      <td>24532</td>\n",
              "      <td>2013.0</td>\n",
              "      <td>chevrolet</td>\n",
              "      <td>silverado 2500 hd</td>\n",
              "      <td>like new</td>\n",
              "      <td>8 cylinders</td>\n",
              "      <td>gas</td>\n",
              "      <td>64933.0</td>\n",
              "      <td>clean</td>\n",
              "      <td>automatic</td>\n",
              "      <td>4wd</td>\n",
              "      <td>full-size</td>\n",
              "      <td>pickup</td>\n",
              "      <td>white</td>\n",
              "    </tr>\n",
              "    <tr>\n",
              "      <th>231069</th>\n",
              "      <td>5950</td>\n",
              "      <td>2008.0</td>\n",
              "      <td>mercury</td>\n",
              "      <td>grand marquis</td>\n",
              "      <td>excellent</td>\n",
              "      <td>8 cylinders</td>\n",
              "      <td>other</td>\n",
              "      <td>84636.0</td>\n",
              "      <td>clean</td>\n",
              "      <td>automatic</td>\n",
              "      <td>4wd</td>\n",
              "      <td>full-size</td>\n",
              "      <td>sedan</td>\n",
              "      <td>green</td>\n",
              "    </tr>\n",
              "    <tr>\n",
              "      <th>253139</th>\n",
              "      <td>17950</td>\n",
              "      <td>2014.0</td>\n",
              "      <td>ford</td>\n",
              "      <td>expedition xl</td>\n",
              "      <td>excellent</td>\n",
              "      <td>8 cylinders</td>\n",
              "      <td>gas</td>\n",
              "      <td>69000.0</td>\n",
              "      <td>clean</td>\n",
              "      <td>automatic</td>\n",
              "      <td>4wd</td>\n",
              "      <td>full-size</td>\n",
              "      <td>SUV</td>\n",
              "      <td>blue</td>\n",
              "    </tr>\n",
              "    <tr>\n",
              "      <th>235857</th>\n",
              "      <td>5500</td>\n",
              "      <td>2004.0</td>\n",
              "      <td>gmc</td>\n",
              "      <td>savana g3500</td>\n",
              "      <td>salvage</td>\n",
              "      <td>6 cylinders</td>\n",
              "      <td>gas</td>\n",
              "      <td>130000.0</td>\n",
              "      <td>rebuilt</td>\n",
              "      <td>automatic</td>\n",
              "      <td>rwd</td>\n",
              "      <td>full-size</td>\n",
              "      <td>pickup</td>\n",
              "      <td>white</td>\n",
              "    </tr>\n",
              "  </tbody>\n",
              "</table>\n",
              "</div>"
            ],
            "text/plain": [
              "        price    year   manufacturer  ...       size    type paint_color\n",
              "293459  24400  2015.0      chevrolet  ...    compact   other       white\n",
              "135364  15995  2016.0      chevrolet  ...    compact   sedan       black\n",
              "128088   5200  2006.0         toyota  ...  full-size   truck      silver\n",
              "204654   6900  2008.0           jeep  ...    compact   coupe      orange\n",
              "413959  21000  2014.0  mercedes-benz  ...    compact     SUV       white\n",
              "258151  15350  2010.0           ford  ...  full-size   coupe         red\n",
              "485941  24532  2013.0      chevrolet  ...  full-size  pickup       white\n",
              "231069   5950  2008.0        mercury  ...  full-size   sedan       green\n",
              "253139  17950  2014.0           ford  ...  full-size     SUV        blue\n",
              "235857   5500  2004.0            gmc  ...  full-size  pickup       white\n",
              "\n",
              "[10 rows x 14 columns]"
            ]
          },
          "metadata": {
            "tags": []
          },
          "execution_count": 52
        }
      ]
    },
    {
      "cell_type": "code",
      "metadata": {
        "id": "_U9CfxdhoHtt",
        "colab_type": "code",
        "outputId": "acb74148-8e97-4752-b6b4-3a89cef4fbb9",
        "colab": {
          "base_uri": "https://localhost:8080/",
          "height": 373
        }
      },
      "source": [
        "df.info()"
      ],
      "execution_count": 0,
      "outputs": [
        {
          "output_type": "stream",
          "text": [
            "<class 'pandas.core.frame.DataFrame'>\n",
            "Int64Index: 375332 entries, 0 to 550312\n",
            "Data columns (total 14 columns):\n",
            "price           375332 non-null int64\n",
            "year            375332 non-null float64\n",
            "manufacturer    375332 non-null object\n",
            "make            375332 non-null object\n",
            "condition       375332 non-null object\n",
            "cylinders       375332 non-null object\n",
            "fuel            375332 non-null object\n",
            "odometer        375332 non-null float64\n",
            "title_status    375332 non-null object\n",
            "transmission    375332 non-null object\n",
            "drive           375332 non-null object\n",
            "size            375332 non-null object\n",
            "type            375332 non-null object\n",
            "paint_color     375332 non-null object\n",
            "dtypes: float64(2), int64(1), object(11)\n",
            "memory usage: 43.0+ MB\n"
          ],
          "name": "stdout"
        }
      ]
    },
    {
      "cell_type": "code",
      "metadata": {
        "id": "OxisPIxuFQ_x",
        "colab_type": "code",
        "outputId": "7bfdf7b8-f760-4d2d-9b12-99f8e065bb9b",
        "colab": {
          "base_uri": "https://localhost:8080/",
          "height": 92
        }
      },
      "source": [
        "df.drive.value_counts()"
      ],
      "execution_count": 0,
      "outputs": [
        {
          "output_type": "execute_result",
          "data": {
            "text/plain": [
              "4wd    175113\n",
              "fwd    136163\n",
              "rwd     69686\n",
              "Name: drive, dtype: int64"
            ]
          },
          "metadata": {
            "tags": []
          },
          "execution_count": 30
        }
      ]
    },
    {
      "cell_type": "code",
      "metadata": {
        "id": "wMLU-LAyosWZ",
        "colab_type": "code",
        "outputId": "077d32cd-46fa-4135-bca8-1e1cb9615c7e",
        "colab": {
          "base_uri": "https://localhost:8080/",
          "height": 278
        }
      },
      "source": [
        "list(df)"
      ],
      "execution_count": 0,
      "outputs": [
        {
          "output_type": "execute_result",
          "data": {
            "text/plain": [
              "['price',\n",
              " 'year',\n",
              " 'manufacturer',\n",
              " 'make',\n",
              " 'condition',\n",
              " 'cylinders',\n",
              " 'fuel',\n",
              " 'odometer',\n",
              " 'title_status',\n",
              " 'transmission',\n",
              " 'drive',\n",
              " 'size',\n",
              " 'type',\n",
              " 'paint_color']"
            ]
          },
          "metadata": {
            "tags": []
          },
          "execution_count": 134
        }
      ]
    },
    {
      "cell_type": "code",
      "metadata": {
        "id": "UlPYOhYr6bXI",
        "colab_type": "code",
        "colab": {}
      },
      "source": [
        "df.to_csv('cars_cleaned.csv', index=False)"
      ],
      "execution_count": 0,
      "outputs": []
    }
  ]
}